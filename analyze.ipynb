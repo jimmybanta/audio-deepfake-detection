{
 "cells": [
  {
   "cell_type": "markdown",
   "metadata": {},
   "source": [
    "# Analyze\n",
    "Where you can analyze an audio file."
   ]
  },
  {
   "cell_type": "code",
   "execution_count": 1,
   "metadata": {},
   "outputs": [
    {
     "name": "stderr",
     "output_type": "stream",
     "text": [
      "/Users/jimbo/Documents/coding/misc/audio-deepfake-detection/venv/lib/python3.11/site-packages/torchaudio/functional/functional.py:584: UserWarning: At least one mel filterbank has all zero values. The value for `n_mels` (128) may be set too high. Or, the value for `n_freqs` (201) may be set too low.\n",
      "  warnings.warn(\n"
     ]
    }
   ],
   "source": [
    "import torch\n",
    "from pydub import AudioSegment\n",
    "import pandas as pd\n",
    "from IPython.display import display\n",
    "\n",
    "from cnn.models import Model\n",
    "from data.import_data import load_dataset, get_dataloader, load_file\n",
    "from eval import eval_model"
   ]
  },
  {
   "cell_type": "code",
   "execution_count": 2,
   "metadata": {},
   "outputs": [],
   "source": [
    "# utility function\n",
    "def play_second(audio, second):\n",
    "    '''\n",
    "    Plays the audio for a given second of the file\n",
    "    '''\n",
    "\n",
    "    return audio[second * 1000: (second + 1) * 1000]"
   ]
  },
  {
   "cell_type": "code",
   "execution_count": 19,
   "metadata": {},
   "outputs": [
    {
     "data": {
      "text/html": [
       "<div>\n",
       "<style scoped>\n",
       "    .dataframe tbody tr th:only-of-type {\n",
       "        vertical-align: middle;\n",
       "    }\n",
       "\n",
       "    .dataframe tbody tr th {\n",
       "        vertical-align: top;\n",
       "    }\n",
       "\n",
       "    .dataframe thead th {\n",
       "        text-align: right;\n",
       "    }\n",
       "</style>\n",
       "<table border=\"1\" class=\"dataframe\">\n",
       "  <thead>\n",
       "    <tr style=\"text-align: right;\">\n",
       "      <th></th>\n",
       "      <th>file</th>\n",
       "      <th>speaker</th>\n",
       "      <th>label</th>\n",
       "      <th>numeric_label</th>\n",
       "      <th>length (sec)</th>\n",
       "    </tr>\n",
       "  </thead>\n",
       "  <tbody>\n",
       "    <tr>\n",
       "      <th>2441</th>\n",
       "      <td>21311.wav</td>\n",
       "      <td>Alec Guinness</td>\n",
       "      <td>spoof</td>\n",
       "      <td>1</td>\n",
       "      <td>24.727000</td>\n",
       "    </tr>\n",
       "    <tr>\n",
       "      <th>1659</th>\n",
       "      <td>14627.wav</td>\n",
       "      <td>Alec Guinness</td>\n",
       "      <td>spoof</td>\n",
       "      <td>1</td>\n",
       "      <td>24.645063</td>\n",
       "    </tr>\n",
       "    <tr>\n",
       "      <th>2714</th>\n",
       "      <td>23557.wav</td>\n",
       "      <td>Alec Guinness</td>\n",
       "      <td>bona-fide</td>\n",
       "      <td>0</td>\n",
       "      <td>23.437062</td>\n",
       "    </tr>\n",
       "    <tr>\n",
       "      <th>712</th>\n",
       "      <td>6404.wav</td>\n",
       "      <td>Alec Guinness</td>\n",
       "      <td>spoof</td>\n",
       "      <td>1</td>\n",
       "      <td>22.530062</td>\n",
       "    </tr>\n",
       "    <tr>\n",
       "      <th>1208</th>\n",
       "      <td>10661.wav</td>\n",
       "      <td>Alec Guinness</td>\n",
       "      <td>spoof</td>\n",
       "      <td>1</td>\n",
       "      <td>22.126000</td>\n",
       "    </tr>\n",
       "    <tr>\n",
       "      <th>1702</th>\n",
       "      <td>15026.wav</td>\n",
       "      <td>Alec Guinness</td>\n",
       "      <td>spoof</td>\n",
       "      <td>1</td>\n",
       "      <td>21.874000</td>\n",
       "    </tr>\n",
       "    <tr>\n",
       "      <th>1909</th>\n",
       "      <td>16669.wav</td>\n",
       "      <td>Alec Guinness</td>\n",
       "      <td>spoof</td>\n",
       "      <td>1</td>\n",
       "      <td>20.028000</td>\n",
       "    </tr>\n",
       "    <tr>\n",
       "      <th>2346</th>\n",
       "      <td>20505.wav</td>\n",
       "      <td>Alec Guinness</td>\n",
       "      <td>spoof</td>\n",
       "      <td>1</td>\n",
       "      <td>18.667000</td>\n",
       "    </tr>\n",
       "    <tr>\n",
       "      <th>3365</th>\n",
       "      <td>29289.wav</td>\n",
       "      <td>Alec Guinness</td>\n",
       "      <td>spoof</td>\n",
       "      <td>1</td>\n",
       "      <td>18.566063</td>\n",
       "    </tr>\n",
       "    <tr>\n",
       "      <th>2272</th>\n",
       "      <td>19868.wav</td>\n",
       "      <td>Alec Guinness</td>\n",
       "      <td>spoof</td>\n",
       "      <td>1</td>\n",
       "      <td>18.541000</td>\n",
       "    </tr>\n",
       "    <tr>\n",
       "      <th>810</th>\n",
       "      <td>7220.wav</td>\n",
       "      <td>Alec Guinness</td>\n",
       "      <td>spoof</td>\n",
       "      <td>1</td>\n",
       "      <td>18.529062</td>\n",
       "    </tr>\n",
       "    <tr>\n",
       "      <th>2550</th>\n",
       "      <td>22246.wav</td>\n",
       "      <td>Alec Guinness</td>\n",
       "      <td>spoof</td>\n",
       "      <td>1</td>\n",
       "      <td>18.402000</td>\n",
       "    </tr>\n",
       "    <tr>\n",
       "      <th>1762</th>\n",
       "      <td>15563.wav</td>\n",
       "      <td>Alec Guinness</td>\n",
       "      <td>bona-fide</td>\n",
       "      <td>0</td>\n",
       "      <td>18.325063</td>\n",
       "    </tr>\n",
       "    <tr>\n",
       "      <th>1902</th>\n",
       "      <td>16612.wav</td>\n",
       "      <td>Alec Guinness</td>\n",
       "      <td>spoof</td>\n",
       "      <td>1</td>\n",
       "      <td>18.319063</td>\n",
       "    </tr>\n",
       "    <tr>\n",
       "      <th>1887</th>\n",
       "      <td>16517.wav</td>\n",
       "      <td>Alec Guinness</td>\n",
       "      <td>spoof</td>\n",
       "      <td>1</td>\n",
       "      <td>18.189000</td>\n",
       "    </tr>\n",
       "    <tr>\n",
       "      <th>3262</th>\n",
       "      <td>28520.wav</td>\n",
       "      <td>Alec Guinness</td>\n",
       "      <td>spoof</td>\n",
       "      <td>1</td>\n",
       "      <td>18.056062</td>\n",
       "    </tr>\n",
       "    <tr>\n",
       "      <th>3182</th>\n",
       "      <td>27855.wav</td>\n",
       "      <td>Alec Guinness</td>\n",
       "      <td>spoof</td>\n",
       "      <td>1</td>\n",
       "      <td>17.925000</td>\n",
       "    </tr>\n",
       "    <tr>\n",
       "      <th>3009</th>\n",
       "      <td>26092.wav</td>\n",
       "      <td>Alec Guinness</td>\n",
       "      <td>spoof</td>\n",
       "      <td>1</td>\n",
       "      <td>17.490063</td>\n",
       "    </tr>\n",
       "    <tr>\n",
       "      <th>2871</th>\n",
       "      <td>24857.wav</td>\n",
       "      <td>Alec Guinness</td>\n",
       "      <td>spoof</td>\n",
       "      <td>1</td>\n",
       "      <td>17.317062</td>\n",
       "    </tr>\n",
       "    <tr>\n",
       "      <th>1880</th>\n",
       "      <td>16442.wav</td>\n",
       "      <td>Alec Guinness</td>\n",
       "      <td>spoof</td>\n",
       "      <td>1</td>\n",
       "      <td>17.063000</td>\n",
       "    </tr>\n",
       "  </tbody>\n",
       "</table>\n",
       "</div>"
      ],
      "text/plain": [
       "           file        speaker      label  numeric_label  length (sec)\n",
       "2441  21311.wav  Alec Guinness      spoof              1     24.727000\n",
       "1659  14627.wav  Alec Guinness      spoof              1     24.645063\n",
       "2714  23557.wav  Alec Guinness  bona-fide              0     23.437062\n",
       "712    6404.wav  Alec Guinness      spoof              1     22.530062\n",
       "1208  10661.wav  Alec Guinness      spoof              1     22.126000\n",
       "1702  15026.wav  Alec Guinness      spoof              1     21.874000\n",
       "1909  16669.wav  Alec Guinness      spoof              1     20.028000\n",
       "2346  20505.wav  Alec Guinness      spoof              1     18.667000\n",
       "3365  29289.wav  Alec Guinness      spoof              1     18.566063\n",
       "2272  19868.wav  Alec Guinness      spoof              1     18.541000\n",
       "810    7220.wav  Alec Guinness      spoof              1     18.529062\n",
       "2550  22246.wav  Alec Guinness      spoof              1     18.402000\n",
       "1762  15563.wav  Alec Guinness  bona-fide              0     18.325063\n",
       "1902  16612.wav  Alec Guinness      spoof              1     18.319063\n",
       "1887  16517.wav  Alec Guinness      spoof              1     18.189000\n",
       "3262  28520.wav  Alec Guinness      spoof              1     18.056062\n",
       "3182  27855.wav  Alec Guinness      spoof              1     17.925000\n",
       "3009  26092.wav  Alec Guinness      spoof              1     17.490063\n",
       "2871  24857.wav  Alec Guinness      spoof              1     17.317062\n",
       "1880  16442.wav  Alec Guinness      spoof              1     17.063000"
      ]
     },
     "execution_count": 19,
     "metadata": {},
     "output_type": "execute_result"
    }
   ],
   "source": [
    "# get the evaluation data, sorted to show the longest clips\n",
    "\n",
    "eval_data = pd.read_csv('data/meta/eval.csv')\n",
    "eval_data.sort_values('length (sec)', ascending=False).head(20)"
   ]
  },
  {
   "cell_type": "code",
   "execution_count": 20,
   "metadata": {},
   "outputs": [],
   "source": [
    "# set the paths to the file you want to analyze, and the model\n",
    "file_path = 'data_files/15563.wav'\n",
    "model_path = 'models/1.pth'\n",
    "\n",
    "# load the model\n",
    "model = Model(num_channels=1)\n",
    "model.load_state_dict(torch.load(model_path))\n",
    "\n",
    "# load the file\n",
    "file_tensors = load_file(file_path)\n",
    "\n",
    "# run the clip through the model\n",
    "model.eval()\n",
    "\n",
    "with torch.no_grad():\n",
    "    model_preds = model(torch.stack(file_tensors))[:, 0]\n",
    "\n",
    "\n",
    "# get the average probability of deepfake\n",
    "average_prob = model_preds.mean().item()\n",
    "\n",
    "# sort the seconds by their deepfake probability\n",
    "probs_sorted = sorted([(i, prob.item()) for i, prob in enumerate(model_preds)], key=lambda x: x[1], reverse=True)"
   ]
  },
  {
   "cell_type": "code",
   "execution_count": 21,
   "metadata": {},
   "outputs": [
    {
     "name": "stdout",
     "output_type": "stream",
     "text": [
      "Second 2, Probability: 0.6347880959510803\n",
      "Second 18, Probability: 0.521275520324707\n",
      "Second 17, Probability: 0.41864562034606934\n",
      "Second 9, Probability: 0.32806292176246643\n",
      "Second 13, Probability: 0.29109397530555725\n",
      "Second 0, Probability: 0.26003462076187134\n",
      "Second 11, Probability: 0.16330033540725708\n",
      "Second 5, Probability: 0.1355976164340973\n",
      "Second 15, Probability: 0.12734848260879517\n",
      "Second 1, Probability: 0.0777774304151535\n",
      "Second 16, Probability: 0.07561053335666656\n",
      "Second 12, Probability: 0.06700043380260468\n",
      "Second 6, Probability: 0.024554025381803513\n",
      "Second 7, Probability: 0.012015635147690773\n",
      "Second 10, Probability: 0.00970432348549366\n",
      "Second 8, Probability: 0.002494129352271557\n",
      "Second 3, Probability: 0.0016823947662487626\n",
      "Second 4, Probability: 0.00015428892220370471\n",
      "Second 14, Probability: 0.00011853315663756803\n"
     ]
    }
   ],
   "source": [
    "for i, prob in probs_sorted:\n",
    "    print(f'Second {i}, Probability: {prob}')"
   ]
  },
  {
   "cell_type": "markdown",
   "metadata": {},
   "source": [
    "## Display Results"
   ]
  },
  {
   "cell_type": "code",
   "execution_count": 22,
   "metadata": {},
   "outputs": [
    {
     "name": "stdout",
     "output_type": "stream",
     "text": [
      "This clip has an average deepfake probability of 16.59%\n",
      "\n",
      "The most likely deepfake seconds are:\n",
      "    Second 2: 0.63\n",
      "    Second 18: 0.52\n",
      "    Second 17: 0.42\n",
      "    Second 9: 0.33\n",
      "    Second 13: 0.29\n",
      "\n",
      "Second 2:\n"
     ]
    },
    {
     "data": {
      "text/html": [
       "\n",
       "                    <audio controls>\n",
       "                        <source src=\"data:audio/mpeg;base64,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\" type=\"audio/mpeg\"/>\n",
       "                        Your browser does not support the audio element.\n",
       "                    </audio>\n",
       "                  "
      ],
      "text/plain": [
       "<pydub.audio_segment.AudioSegment at 0x17a890bd0>"
      ]
     },
     "metadata": {},
     "output_type": "display_data"
    },
    {
     "name": "stdout",
     "output_type": "stream",
     "text": [
      "Second 18:\n"
     ]
    },
    {
     "data": {
      "text/html": [
       "\n",
       "                    <audio controls>\n",
       "                        <source src=\"data:audio/mpeg;base64,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\" type=\"audio/mpeg\"/>\n",
       "                        Your browser does not support the audio element.\n",
       "                    </audio>\n",
       "                  "
      ],
      "text/plain": [
       "<pydub.audio_segment.AudioSegment at 0x180b32b10>"
      ]
     },
     "metadata": {},
     "output_type": "display_data"
    },
    {
     "name": "stdout",
     "output_type": "stream",
     "text": [
      "Second 17:\n"
     ]
    },
    {
     "data": {
      "text/html": [
       "\n",
       "                    <audio controls>\n",
       "                        <source src=\"data:audio/mpeg;base64,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\" type=\"audio/mpeg\"/>\n",
       "                        Your browser does not support the audio element.\n",
       "                    </audio>\n",
       "                  "
      ],
      "text/plain": [
       "<pydub.audio_segment.AudioSegment at 0x180fcf490>"
      ]
     },
     "metadata": {},
     "output_type": "display_data"
    },
    {
     "name": "stdout",
     "output_type": "stream",
     "text": [
      "Second 9:\n"
     ]
    },
    {
     "data": {
      "text/html": [
       "\n",
       "                    <audio controls>\n",
       "                        <source src=\"data:audio/mpeg;base64,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\" type=\"audio/mpeg\"/>\n",
       "                        Your browser does not support the audio element.\n",
       "                    </audio>\n",
       "                  "
      ],
      "text/plain": [
       "<pydub.audio_segment.AudioSegment at 0x17fe2eb90>"
      ]
     },
     "metadata": {},
     "output_type": "display_data"
    },
    {
     "name": "stdout",
     "output_type": "stream",
     "text": [
      "Second 13:\n"
     ]
    },
    {
     "data": {
      "text/html": [
       "\n",
       "                    <audio controls>\n",
       "                        <source src=\"data:audio/mpeg;base64,SUQzBAAAAAAAIlRTU0UAAAAOAAADTGF2ZjYxLjcuMTAwAAAAAAAAAAAAAAD/81jAAAAAAAAAAAAASW5mbwAAAA8AAAAeAAANXAAVFRUdHR0lJSUtLS0tNTU1PT09RkZGRk5OTlZWVl5eXl5mZmZubm52dnZ2fn5+hoaGjo6OjpaWlp6enqenp6evr6+3t7e/v7+/x8fHz8/P19fX19/f3+fn5+/v7+/39/f///8AAAAATGF2YzYxLjE5AAAAAAAAAAAAAAAAJALAAAAAAAAADVwUOhUVAAAAAAAAAAAAAAD/8zjEABNIWqwXRhgALuXYXv7nk09vWjHPJkwAEEEAx4gBAHw+UBAEwfP+CAIAMHwfeHxgIOpE/DHg+D//+oEwf9QIHP8EAGD4Pg+fcCAIAgAwfB8Hw+CAIAgqpWGkjcbckgAAQjlo3bH5cZL/8zjEERi6AthfjFgCAXT8vDiTw4HstHI6R8aFhxY0lux1E21VCB2EQmEOz8THZnAmOnl7VSfdQn33qMiar+uW/+ye1Yh2g+kPo/Kxe59Sy9xLNI7PP/3bF9Pl/NDG1YkSZKpdnd/xVWoaZFv/8zjEDReY+upfz1gCpxatAVNcpH1a2ZDZijVNYc3yidRLxA1DayIegUDdsn7cq7tb44y7tQ8VKA61eJTQd9qzIPnXiRAMg0W/3DVBkaPbDgUaExUm/fDqvFkOqit1CpB3GXNXLtx9rzHjKez/8zjEDReJitm+eYTybbvuKSbaLG4q5iUJaOn3GLSusbL1+4lF0iBSkrk7e7uzeK3qxzpeKrZ2b6orG/7hlEOBg6JTv8t1yLDdpoDmFrOrUXWilt49Ij9DbYkAjwaH1cAFIlLZNdhawHD1lwn/8zjEDRfSAtG+SYYygER5gC1yOYJQmg95aRqonORjYKollv2I7wj4Ti9edZUyKKXQWYMtj++0VdmPnX5+b/w+zIwbJRiBsPggbBA4nUuhe3hVAFSAgKooB3C7ZNmJpBUgJVqDrgMw0jNhpEf/8zjEDBgqCqBUeZBovBZaLICKTBULLRpIt4/9+1bdpji+Y1YYCsCANiamTi17nuYiuf5/1iv+X77eZu/5hce668TkCkskCp5CnwIg0YNOMhwED60LppMCoVYTScAlYrk/SpW5JtbLpKLRMID/8zjEChQ59uZeYMqeOakE+u5/s0bdlSVmPAqRlqRqVKsv3zXYUXtFFN0MZKWcZy1Mrakfy+/lX/yI90INRmFymKYCkEnDRI60VDqk//+i0NNPf9cFWy7XSxF24UM4mSsDO5SabGGE7gtbRoT/8zjEGBUpFqZeSYYU+ehE7ySEYOIg7Nn0GQJ4hUzpu7ZBBG8H2kKjgGAp2yMyrkoIzbygNAa/8w6di8ioA1LGk0p1PsCbGI40qgbbZbbbZLaB/l/H51yG+UgScAzH+HGAbgZwjZ3Fzc38ec7/8zjEIhnyEuZeekrW/X20c8XNz1RhhTKQOiRm0BcnAQkUE6IuK21N2XqvUGVRWzvOqOv+9le1++htRATMyIowhRARBiZyC5CYa/t3LHDidGzrqgF7+oDVHKQMBljmNJ0cRRdWO3FapIUkwlX/8zjEGRQo7q2Qyx7IAGAobcmHWiDGr1/qkdrQrrFx0WnUpIV71wVShYhFxnq5cizWVrxYpGl2wi4N3f9KBVQkC13LcNXRA1W45aMPdvGc4wFLGnOdwcqOaGhtBgnG0mvF32r+c7EYcoKZMAr/8zjEJxUR6smeeYSaLkZn0SW9VTiWzd//KWYv/5WWGaZSOVspcxqujhS6nwCLi8tuz3K0f/+aWgCkFRWg55dxRuOkzlf1HUWNmXlYqGJsOQ6GN8dbBW6fRu9e983436+9722QB0gg0nt7Dnv/8zjEMRTZmrB+eYTQZPyJJO6ErQn/kaQk4t60/QGLrU8XLvGExQABkXXIbf//wArsP/8D9110tS92S2GVljTcbNZbSDs44xnSG3mUHKdlr066PO3eydiv8ofzmq3/nBlFz4MtarrhT6bXpiL/8zjEPB0yDrRUylFgQQhASAgt46h4TzKEokhksvsjsZ4wydb2q3KFOaF3YAAlB0GjsodY0fc2nwm9P6VG/wOlDYYW/SmiZ/+AfzJRy5vSldv4k59v5VJt5ock1oe4DDoHz27/4U1DL9dlljL/8zjEJhr55sQ0ww1hpsMLlDnndl+GoejLX4km61Rd6NwNG8AUAqshO1bH3htyKEQSn18eKxOielOTqCQZIKTH0S1mfvq52sMx/HXgcwSqRw8HLZvQmdAHpQqjE1DDhB1plFgSIo04WxFOF9j/8zjEGRRg8tVWedLKrzRI4HP+UWh75P+LG3F33WsjYaZIRS54cphWFZLpqERpY1qlLhWiiGyxYRIEqyR0iNPGXijRAZ6F4UK4uy3cCOUOhlXCJolppE1sY0IQRMyVHa3MmZmVV8wq7M0ZuqD/8zjEJhS5ltmeEkYaKrqWQo/Y//JoeakqzjbHxryrtyCkGSSwVpUoGlu1abkdi7lHlB32tuWk3gDaG5WtuCpQ8Wwa2hSBUWCQfL2nHWqxFUYOOHRL/MAXcorgY5RzDgYGLyxXwcyV8QjygHH/8zjEMhUQ7pmWWwYYRwfGh940LnHlEksMfQJwfpg+H0RP/qOZzo5Nd60/f0PNCepsQzITANn58XRgdkkoGfPCIg2PB7uXSIfZ9dtRI/AhokfrX/cyV11/X7bzm5Z4KyL8UF1zKC3tzBr3e9b/8zjEPCM66ogAYwz9ZX/s3rWMXTrnb41i76LG0l4MfecfTvnkY8hHZMeOoj8HEDdHm5RpgWGOI9xafi8/3GMl9lMWGd+To/ZPqM1peIhtKy+vU5C7J2FWDw//nctJcdlu1rkbkkFrD7LS0nX/8zjEDhSyJt5eSEb6FLjK8fKZEbirTUt4woiCEhiDNNGoj/xSaec+vfZa5/zWX/D/1bmKVmO9UhVnH13AjWMpDosLEVnRK5c1XWdHgGdKps+pAK//6FYilxBiixkOHQaNC0tYgQozFEK5EBn/8zjEGhSIXoWUekwEUNBkNpYaSkaGATcHQXcIyx1gwqLHjJoRBpaRYSk1jD1y5VgliKhJ1J2DbltfW5OxFtc79bHr+/Wqu222++tt1AFBFWIl/gYROFdiliijFn4eeihCWHGQQQrZE7zOyfz/8zjEJhSxBt5ewkZqQnFgCG6OHiF/lXiUDMO4gWFjhQafiBIfICRzQQSXfJrHSYYOHwwFjNA5r/+uf+FajIQDIAZ9HCVMFhuu9AJRDi4NLLpFilopAKdTsTg+pW2tZ+ZNQNP8Vz540zyK4af/8zjEMiFKZpQqy9Kcm8t+/HVj2HBIWqyzJeooEBmrpxfLWf3YuhspymzGCM2mgFa8gQChAVOlE3G28SPamSh6/1Thsc8iSS9oG+pdtOST892/7////9J6pDERjeucU41VKqVtWhBlGpAI2DL/8zjECxZhyqxQesy8JG4mgOpzUoBSL+G1BwvbLDlpd2erVZElMTMeeWvXpsljFAzYUGoGh2kkbTRrTX//v7+a2tze2zRz+gkUSFHQUSedxvuO5j1CgFF//+j+tYXf65wnLh4KAFjyEhYSJmv/8zjEEBhLOs0eSIb8rCo1Uslccu4/KUZZSqVC5Sr9VUsswrX/kcqMT9v///2SiM85GiYcWblcn4Tpz2Qj/gh3DsOACKflDlNcxEhDxeADluGABt5Rfw7MObuYMWAXKinv97rbkFs7EgZ/T9T/8zjEDRdzQspcMEq89fDbd2b3MaWMZJijjNc2RGUkAgGhMmVzrmRg5v/n//3nIhEmazsIjRgEibCEVOLKp0fWi3kVWRr7lcjiTJTcrqiKIEUYeNUjVb+lhQyo5Imemu23ultR8mPaG1SyWvL/8zjEDhUqCuJaSUTuFe1j5plJlD1ZK041KproNKdg4Earo1yKhdYmA1DiXoUwQ9EKoA+YdxCP/sq+/b50o58xDiGuisw5kpfts6F329NqVzn21V27b3fbW1mkAM0oaxp3zUcKt5Zyi/r7MJ7/8zjEGBNZ8upcMEtOzjtXlfrzb2+UXU5DZhzCki1F6iMYBWxOXvq4P+l7s4wSKLgQNYTBEiVgHqewuNaKSt1P101qj29mIhvshdBAFcPExzPxFs4kBg8LbPO3jrRNVmn/qvrGvMMKZ84fhof/8zjEKRSRSrZ9RRgAr321CQGCcs/wWfqbBoqHA6YcCyYlOy21BXrATxxIOnanrGPkc9KnQKSqGgjX6htaO9xGltf11nV3x899SflQZ8c28vBDSH/yKpToHFEDgNDsTGCUOTRBB4IgdOuA8Qf/8zjENSHTzogBj0AAC9B+WMF2GCxJAcioq1010edIkEPxY1LNEt+zNNKDes1S/npy8SIn8Y4ZUlC18rHz3/zPP2v5icyOEciOplVa9VFWvVeE//////yhn/////4sCqpBZEQpcIWYQ8QlIXD/8zjEDBDJUizjwRgChbqr7N//1fqqUAgJYGFMdUBb/1AQEwoCArhgICJgIOr8se1grBWIj0OwV+jEv+Cv+CrwV/8sDNVMQU1FMy4xMDBVVVVVVVVVVVVVVVVVVVVVVVVVVVVVVVVVVVVVVVU=\" type=\"audio/mpeg\"/>\n",
       "                        Your browser does not support the audio element.\n",
       "                    </audio>\n",
       "                  "
      ],
      "text/plain": [
       "<pydub.audio_segment.AudioSegment at 0x17fe2fd10>"
      ]
     },
     "metadata": {},
     "output_type": "display_data"
    }
   ],
   "source": [
    "print(f'This clip has an average deepfake probability of {round(average_prob * 100, 2)}%\\n')\n",
    "print('The most likely deepfake seconds are:')\n",
    "for i, prob in probs_sorted[:5]:\n",
    "    print(f'    Second {i}: {prob:.2f}')\n",
    "print('')\n",
    "\n",
    "\n",
    "# load the audio\n",
    "audio = AudioSegment.from_file(file_path)\n",
    "\n",
    "# display the most likely deepfake seconds\n",
    "for i, prob in probs_sorted[:5]:\n",
    "    print(f'Second {i}:')\n",
    "    display(play_second(audio, i))"
   ]
  },
  {
   "cell_type": "code",
   "execution_count": null,
   "metadata": {},
   "outputs": [],
   "source": []
  }
 ],
 "metadata": {
  "kernelspec": {
   "display_name": "venv",
   "language": "python",
   "name": "python3"
  },
  "language_info": {
   "codemirror_mode": {
    "name": "ipython",
    "version": 3
   },
   "file_extension": ".py",
   "mimetype": "text/x-python",
   "name": "python",
   "nbconvert_exporter": "python",
   "pygments_lexer": "ipython3",
   "version": "3.11.3"
  }
 },
 "nbformat": 4,
 "nbformat_minor": 2
}
