{
 "cells": [
  {
   "cell_type": "markdown",
   "metadata": {},
   "source": [
    "# Analyze\n",
    "Where you can analyze an audio file."
   ]
  },
  {
   "cell_type": "code",
   "execution_count": 53,
   "metadata": {},
   "outputs": [],
   "source": [
    "import math\n",
    "\n",
    "import torch\n",
    "from pydub import AudioSegment\n",
    "import pandas as pd\n",
    "from IPython.display import display\n",
    "\n",
    "from cnn.models import Model\n",
    "from data.import_data import load_dataset, get_dataloader, load_file\n",
    "from eval import eval_model"
   ]
  },
  {
   "cell_type": "code",
   "execution_count": 49,
   "metadata": {},
   "outputs": [],
   "source": [
    "# utility functions\n",
    "\n",
    "def play_second(audio, second):\n",
    "    '''\n",
    "    Plays the audio for a given second of the file\n",
    "    '''\n",
    "\n",
    "    return audio[second * 1000: (second + 1) * 1000]\n",
    "\n",
    "def calculate_deepfake_value(preds):\n",
    "    '''\n",
    "    Calculates the deepfake value from the model predictions\n",
    "    '''\n",
    "\n",
    "    # square the predictions\n",
    "    preds_squared = [pred ** 2 for pred in preds]\n",
    "\n",
    "    # calculate the average of the squared predictions\n",
    "    avg = sum(preds_squared) / len(preds_squared)\n",
    "\n",
    "    # return the square root of the average\n",
    "    return math.sqrt(avg)"
   ]
  },
  {
   "cell_type": "code",
   "execution_count": 50,
   "metadata": {},
   "outputs": [
    {
     "data": {
      "text/html": [
       "<div>\n",
       "<style scoped>\n",
       "    .dataframe tbody tr th:only-of-type {\n",
       "        vertical-align: middle;\n",
       "    }\n",
       "\n",
       "    .dataframe tbody tr th {\n",
       "        vertical-align: top;\n",
       "    }\n",
       "\n",
       "    .dataframe thead th {\n",
       "        text-align: right;\n",
       "    }\n",
       "</style>\n",
       "<table border=\"1\" class=\"dataframe\">\n",
       "  <thead>\n",
       "    <tr style=\"text-align: right;\">\n",
       "      <th></th>\n",
       "      <th>file</th>\n",
       "      <th>speaker</th>\n",
       "      <th>label</th>\n",
       "      <th>numeric_label</th>\n",
       "      <th>length (sec)</th>\n",
       "    </tr>\n",
       "  </thead>\n",
       "  <tbody>\n",
       "    <tr>\n",
       "      <th>2441</th>\n",
       "      <td>21311.wav</td>\n",
       "      <td>Alec Guinness</td>\n",
       "      <td>spoof</td>\n",
       "      <td>1</td>\n",
       "      <td>24.727000</td>\n",
       "    </tr>\n",
       "    <tr>\n",
       "      <th>1659</th>\n",
       "      <td>14627.wav</td>\n",
       "      <td>Alec Guinness</td>\n",
       "      <td>spoof</td>\n",
       "      <td>1</td>\n",
       "      <td>24.645063</td>\n",
       "    </tr>\n",
       "    <tr>\n",
       "      <th>2714</th>\n",
       "      <td>23557.wav</td>\n",
       "      <td>Alec Guinness</td>\n",
       "      <td>bona-fide</td>\n",
       "      <td>0</td>\n",
       "      <td>23.437062</td>\n",
       "    </tr>\n",
       "    <tr>\n",
       "      <th>712</th>\n",
       "      <td>6404.wav</td>\n",
       "      <td>Alec Guinness</td>\n",
       "      <td>spoof</td>\n",
       "      <td>1</td>\n",
       "      <td>22.530062</td>\n",
       "    </tr>\n",
       "    <tr>\n",
       "      <th>1208</th>\n",
       "      <td>10661.wav</td>\n",
       "      <td>Alec Guinness</td>\n",
       "      <td>spoof</td>\n",
       "      <td>1</td>\n",
       "      <td>22.126000</td>\n",
       "    </tr>\n",
       "    <tr>\n",
       "      <th>1702</th>\n",
       "      <td>15026.wav</td>\n",
       "      <td>Alec Guinness</td>\n",
       "      <td>spoof</td>\n",
       "      <td>1</td>\n",
       "      <td>21.874000</td>\n",
       "    </tr>\n",
       "    <tr>\n",
       "      <th>1909</th>\n",
       "      <td>16669.wav</td>\n",
       "      <td>Alec Guinness</td>\n",
       "      <td>spoof</td>\n",
       "      <td>1</td>\n",
       "      <td>20.028000</td>\n",
       "    </tr>\n",
       "    <tr>\n",
       "      <th>2346</th>\n",
       "      <td>20505.wav</td>\n",
       "      <td>Alec Guinness</td>\n",
       "      <td>spoof</td>\n",
       "      <td>1</td>\n",
       "      <td>18.667000</td>\n",
       "    </tr>\n",
       "    <tr>\n",
       "      <th>3365</th>\n",
       "      <td>29289.wav</td>\n",
       "      <td>Alec Guinness</td>\n",
       "      <td>spoof</td>\n",
       "      <td>1</td>\n",
       "      <td>18.566063</td>\n",
       "    </tr>\n",
       "    <tr>\n",
       "      <th>2272</th>\n",
       "      <td>19868.wav</td>\n",
       "      <td>Alec Guinness</td>\n",
       "      <td>spoof</td>\n",
       "      <td>1</td>\n",
       "      <td>18.541000</td>\n",
       "    </tr>\n",
       "    <tr>\n",
       "      <th>810</th>\n",
       "      <td>7220.wav</td>\n",
       "      <td>Alec Guinness</td>\n",
       "      <td>spoof</td>\n",
       "      <td>1</td>\n",
       "      <td>18.529062</td>\n",
       "    </tr>\n",
       "    <tr>\n",
       "      <th>2550</th>\n",
       "      <td>22246.wav</td>\n",
       "      <td>Alec Guinness</td>\n",
       "      <td>spoof</td>\n",
       "      <td>1</td>\n",
       "      <td>18.402000</td>\n",
       "    </tr>\n",
       "    <tr>\n",
       "      <th>1762</th>\n",
       "      <td>15563.wav</td>\n",
       "      <td>Alec Guinness</td>\n",
       "      <td>bona-fide</td>\n",
       "      <td>0</td>\n",
       "      <td>18.325063</td>\n",
       "    </tr>\n",
       "    <tr>\n",
       "      <th>1902</th>\n",
       "      <td>16612.wav</td>\n",
       "      <td>Alec Guinness</td>\n",
       "      <td>spoof</td>\n",
       "      <td>1</td>\n",
       "      <td>18.319063</td>\n",
       "    </tr>\n",
       "    <tr>\n",
       "      <th>1887</th>\n",
       "      <td>16517.wav</td>\n",
       "      <td>Alec Guinness</td>\n",
       "      <td>spoof</td>\n",
       "      <td>1</td>\n",
       "      <td>18.189000</td>\n",
       "    </tr>\n",
       "    <tr>\n",
       "      <th>3262</th>\n",
       "      <td>28520.wav</td>\n",
       "      <td>Alec Guinness</td>\n",
       "      <td>spoof</td>\n",
       "      <td>1</td>\n",
       "      <td>18.056062</td>\n",
       "    </tr>\n",
       "    <tr>\n",
       "      <th>3182</th>\n",
       "      <td>27855.wav</td>\n",
       "      <td>Alec Guinness</td>\n",
       "      <td>spoof</td>\n",
       "      <td>1</td>\n",
       "      <td>17.925000</td>\n",
       "    </tr>\n",
       "    <tr>\n",
       "      <th>3009</th>\n",
       "      <td>26092.wav</td>\n",
       "      <td>Alec Guinness</td>\n",
       "      <td>spoof</td>\n",
       "      <td>1</td>\n",
       "      <td>17.490063</td>\n",
       "    </tr>\n",
       "    <tr>\n",
       "      <th>2871</th>\n",
       "      <td>24857.wav</td>\n",
       "      <td>Alec Guinness</td>\n",
       "      <td>spoof</td>\n",
       "      <td>1</td>\n",
       "      <td>17.317062</td>\n",
       "    </tr>\n",
       "    <tr>\n",
       "      <th>1880</th>\n",
       "      <td>16442.wav</td>\n",
       "      <td>Alec Guinness</td>\n",
       "      <td>spoof</td>\n",
       "      <td>1</td>\n",
       "      <td>17.063000</td>\n",
       "    </tr>\n",
       "  </tbody>\n",
       "</table>\n",
       "</div>"
      ],
      "text/plain": [
       "           file        speaker      label  numeric_label  length (sec)\n",
       "2441  21311.wav  Alec Guinness      spoof              1     24.727000\n",
       "1659  14627.wav  Alec Guinness      spoof              1     24.645063\n",
       "2714  23557.wav  Alec Guinness  bona-fide              0     23.437062\n",
       "712    6404.wav  Alec Guinness      spoof              1     22.530062\n",
       "1208  10661.wav  Alec Guinness      spoof              1     22.126000\n",
       "1702  15026.wav  Alec Guinness      spoof              1     21.874000\n",
       "1909  16669.wav  Alec Guinness      spoof              1     20.028000\n",
       "2346  20505.wav  Alec Guinness      spoof              1     18.667000\n",
       "3365  29289.wav  Alec Guinness      spoof              1     18.566063\n",
       "2272  19868.wav  Alec Guinness      spoof              1     18.541000\n",
       "810    7220.wav  Alec Guinness      spoof              1     18.529062\n",
       "2550  22246.wav  Alec Guinness      spoof              1     18.402000\n",
       "1762  15563.wav  Alec Guinness  bona-fide              0     18.325063\n",
       "1902  16612.wav  Alec Guinness      spoof              1     18.319063\n",
       "1887  16517.wav  Alec Guinness      spoof              1     18.189000\n",
       "3262  28520.wav  Alec Guinness      spoof              1     18.056062\n",
       "3182  27855.wav  Alec Guinness      spoof              1     17.925000\n",
       "3009  26092.wav  Alec Guinness      spoof              1     17.490063\n",
       "2871  24857.wav  Alec Guinness      spoof              1     17.317062\n",
       "1880  16442.wav  Alec Guinness      spoof              1     17.063000"
      ]
     },
     "execution_count": 50,
     "metadata": {},
     "output_type": "execute_result"
    }
   ],
   "source": [
    "# get the evaluation data, sorted to show the longest clips\n",
    "\n",
    "eval_data = pd.read_csv('data/meta/eval.csv')\n",
    "eval_data.sort_values('length (sec)', ascending=False).head(20)"
   ]
  },
  {
   "cell_type": "code",
   "execution_count": 71,
   "metadata": {},
   "outputs": [],
   "source": [
    "# set the paths to the file you want to analyze, and the model\n",
    "file_path = 'data_files/14627.wav'\n",
    "model_path = 'models/1.pth'\n",
    "\n",
    "# load the model\n",
    "model = Model(num_channels=1)\n",
    "model.load_state_dict(torch.load(model_path))\n",
    "\n",
    "# load the file\n",
    "file_tensors = load_file(file_path)\n",
    "\n",
    "# run the clip through the model\n",
    "model.eval()\n",
    "\n",
    "with torch.no_grad():\n",
    "    model_preds = model(torch.stack(file_tensors))[:, 0]\n",
    "\n",
    "# sort the seconds by their deepfake probability\n",
    "probs_sorted = sorted([(i, prob.item()) for i, prob in enumerate(model_preds)], key=lambda x: x[1], reverse=True)\n",
    "\n",
    "# calculate the deepfake value\n",
    "## (avg of the squared predictions, square rooted, to give more weight to higher probabilities)\n",
    "deepfake_prob = calculate_deepfake_value(model_preds)"
   ]
  },
  {
   "cell_type": "code",
   "execution_count": 73,
   "metadata": {},
   "outputs": [
    {
     "name": "stdout",
     "output_type": "stream",
     "text": [
      "Second 20, Probability: 0.5592638254165649\n",
      "Second 10, Probability: 0.5390245914459229\n",
      "Second 15, Probability: 0.5354292392730713\n",
      "Second 11, Probability: 0.5231657028198242\n",
      "Second 5, Probability: 0.5224992036819458\n",
      "Second 19, Probability: 0.5206447839736938\n",
      "Second 24, Probability: 0.5196725726127625\n",
      "Second 23, Probability: 0.5105296969413757\n",
      "Second 9, Probability: 0.500051736831665\n",
      "Second 13, Probability: 0.4973704218864441\n",
      "Second 12, Probability: 0.4893817603588104\n",
      "Second 16, Probability: 0.4785928726196289\n",
      "Second 4, Probability: 0.4756999611854553\n",
      "Second 3, Probability: 0.46586474776268005\n",
      "Second 17, Probability: 0.4545885920524597\n",
      "Second 22, Probability: 0.4390139877796173\n",
      "Second 21, Probability: 0.438944011926651\n",
      "Second 6, Probability: 0.43776777386665344\n",
      "Second 8, Probability: 0.4297375977039337\n",
      "Second 18, Probability: 0.42109110951423645\n",
      "Second 0, Probability: 0.41909655928611755\n",
      "Second 2, Probability: 0.41577181220054626\n",
      "Second 14, Probability: 0.4099285304546356\n",
      "Second 1, Probability: 0.37234073877334595\n",
      "Second 7, Probability: 0.321349173784256\n"
     ]
    }
   ],
   "source": [
    "for i, prob in probs_sorted:\n",
    "    print(f'Second {i}, Probability: {prob}')"
   ]
  },
  {
   "cell_type": "markdown",
   "metadata": {},
   "source": [
    "## Display Results"
   ]
  },
  {
   "cell_type": "code",
   "execution_count": 74,
   "metadata": {},
   "outputs": [
    {
     "name": "stdout",
     "output_type": "stream",
     "text": [
      "This clip has a deepfake probability of 47.13%\n",
      "\n",
      "The most likely deepfake seconds are:\n",
      "    Second 20: 0.56\n",
      "    Second 10: 0.54\n",
      "    Second 15: 0.54\n",
      "    Second 11: 0.52\n",
      "    Second 5: 0.52\n",
      "\n",
      "Second 20:\n"
     ]
    },
    {
     "data": {
      "text/html": [
       "\n",
       "                    <audio controls>\n",
       "                        <source src=\"data:audio/mpeg;base64,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\" type=\"audio/mpeg\"/>\n",
       "                        Your browser does not support the audio element.\n",
       "                    </audio>\n",
       "                  "
      ],
      "text/plain": [
       "<pydub.audio_segment.AudioSegment at 0x1818ca5d0>"
      ]
     },
     "metadata": {},
     "output_type": "display_data"
    },
    {
     "name": "stdout",
     "output_type": "stream",
     "text": [
      "Second 10:\n"
     ]
    },
    {
     "data": {
      "text/html": [
       "\n",
       "                    <audio controls>\n",
       "                        <source src=\"data:audio/mpeg;base64,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\" type=\"audio/mpeg\"/>\n",
       "                        Your browser does not support the audio element.\n",
       "                    </audio>\n",
       "                  "
      ],
      "text/plain": [
       "<pydub.audio_segment.AudioSegment at 0x1804c1e90>"
      ]
     },
     "metadata": {},
     "output_type": "display_data"
    },
    {
     "name": "stdout",
     "output_type": "stream",
     "text": [
      "Second 15:\n"
     ]
    },
    {
     "data": {
      "text/html": [
       "\n",
       "                    <audio controls>\n",
       "                        <source src=\"data:audio/mpeg;base64,SUQzBAAAAAAAIlRTU0UAAAAOAAADTGF2ZjYxLjcuMTAwAAAAAAAAAAAAAAD/81jAAAAAAAAAAAAASW5mbwAAAA8AAAAeAAANXAAVFRUdHR0lJSUtLS0tNTU1PT09RkZGRk5OTlZWVl5eXl5mZmZubm52dnZ2fn5+hoaGjo6OjpaWlp6enqenp6evr6+3t7e/v7+/x8fHz8/P19fX19/f3+fn5+/v7+/39/f///8AAAAATGF2YzYxLjE5AAAAAAAAAAAAAAAAJALAAAAAAAAADVxkOFUFAAAAAAAAAAAAAAD/8zjEABN6bnL5QRABAAeAsGhdIBxjfHGMfAAAAAB/85/+v5zvyE/3//X/oQjZCEI3+c5z/8hznOc5znAAAQRvOcDAwMDFnOIIAAABx3gAj44eHv///8HdDAAQTYEAgAkEkkEAklV/5YIQgPz/8zjEERl7fsZdgigCz+v/7t2/zdul3ddH//9P/+o0eeHSgIhlDTJUSrOyOqlvrGmExAXLSpLsYxR1boY7MPGIhRQ1iumZZCCJXIYOjEqzh0TkEhNhYSKMNUrmHP//+OP/1SrLZLLbZVs7ndb/8zjECheRrq5d2BACVwqXo1gBRoAtd/1zg4ambJ4gyB5KT+Yf+uYC1DhygZynkSLFnIVjmQiDtVDjl5H8vmVDf//uaCCDuVWigyp5INAp+jFiQ4QuDSCte3TyoKnvZoXnVQC1bLLaE3AB36v/8zjEChapDq5ew8yyQMs45cuQ3JAgkqczDIo09OY6hQIihOo0Ia41RyUhCx1ow3yvX1c8gLtC2djNNjQ9eLgS9lQ8k5g2/YXbPrH1eumxn/+ANav/+mxsJFiMSndqfrgJPZh0qARlgS0tOwz/8zjEDhcxtnwU2kS04nDUxZHxPcxAMZ7DcAmFEhdJ6xAASDyBdmwugE1nxPSUCBgmKgaRJSGRShNoTLbKDcjT+miGsimajvt//myuqKFOjpqUF/8sLDQcFdBeXoGlciikg1BgLksFhdALRzT/8zjEEBcbEqj+eE0eyQc5HBpVNbw3Wrb9oNbWz84PkKRCcvNPKE/LF5wr///8Y0b6fj///+z8QnQIEc8Lae0eU3PTz8EQjGxyYOFkydGKw/X/vf/+6dg/w/VYXZYUacRwroOIkxfkNiWewof/8zjEEhf7PogqeFMdSNXOsb3////nvOvr////////5C/36/18E2SgmNtlDGFx9kujRKahHlRHKrjU0EZEskBBCZI3N7DbZi7J5zI26xdHX6pOkjdNRiSBggdISkEolt2e7zIjrThAXZvTrN//8zjEERkzNsJcOJDf/RHMYTK/rRmu9iFIQjKYdpHO7VOrkNVrf/+Q16YehAxXeii03s6fvmOuUSvGUbb+/BkkPdjHR96GvKd+/oWbYuY0dFHpI2euZEq6nXQnBbTGsMtejb2u2t2c5uGIl0n/8zjECxRplsZaSYS6VpxhuBcbC4UBk2TrMhnu4+vb4ThshHx3vw2PpaXiKw7MsAS8VUbcOILT///qIRpxbnkHlzf/zySYqTE6TPjND12HbZKhYNVu2222yALX9f4DEgdHFaQFiaPZkgJLrsT/8zjEGBPA6s5YxkxefjuyGBXqmwIMiS60hp5+xlt0GCV7Lpp13OzM4+kdrtLTHi05MKZrXdjkIPpxYOlIgAbn///1EwbHXY4XUEXkHpyLSgsGhMTQ3jZ2FzUzY6oGKjmoK4tnp+z7fn+QWLr/8zjEKBRI8rJaBl4U52wsx2MvrbmxMTyY1HDCC6btNi1vXpv/xloffJsGV/5F0MvBb//0KXcqgQ6CgLRTP2DF1FaRPT7itrxCoL1xV0FbH1duN1SvsBGUDNDymem+/X/////6ezV/////96v/8zjENRUrPqzeeMqxL6nP//xSQ+RhovUrqMDhBAUI5BAhBRUYiwmBxMXD7z1pxuWy3YQKQUDhhT1YQ2XdStlshmq5qX+g5SPZN9zZeJ0ojWIjJpHz//+ZfJZc1////z7Hcf/B5Z8lOCsYEkH/8zjEPxR7PtpeEFOT2IGF/aN61ZGTd7MTqLkZwtq+Sk01JHG7EvfDOSbfZYKh3eCOSFGNSWe8/qskadk54qVXJItEmRkRjrUE7oxEWZk1qX//51/oCKzkU5zDP6LdTrkgYByJ6VFlHWqY2x7/8zjETBTZ2rJYeYQ+RFk4FvDRwzVJOyfe38OBLuQLmWvxlvOoaVX/4BP5n+1gEaqUZm1ZmoCu237MwMmOHrmMwVENqW3//UxtNWAW2mmlKWpSsolgVsuK3yzxKBeV6Fug0e5XqBl08SURScf/8zjEVxTiBppcSMScAU5mkPJSQc44ycVB5v37mpGShQ41TvqT2OdxMXQhJzv9CNIhGPkFAd8hPPbyP7+lACCcAFBxAQIIZQY7sJGNZZNvX6lSspWoV2WCdFEPf4lVxm2AjpAIuSdqZlLR6lz/8zjEYhTSamQ8eUScQAgaHXEDACQhCFApowW8T8yiwOsohUSHQztafJ2VBJIhhjrFnJeGrMY0EIX0euFGr2d3PcUWZPG+8X9tz/Vf/F+71/5cQWenhod0Ln409OSx7//+pXfkaFIwBj3Gy5f/8zjEbRihwmwA09CUqAk86gHIApfgCUTKxRFIQgpmM2EZKV6NgICM7UfXdSS99kCSV0jekdCphrzKy92bXlDQQUJJMjV2sZSENUToZqhiS2AJ3EBVDKran1fV+K1KjecFa4GM40CiCCwEDYn/8zjEaR8SZnAA2YtBhAVwIPFxdHna52+v/0ZaFQmo+RXEudvAHOWEl1eSqOgndC2PMYgJOLKbSxmeypr0gw5LmKiKXsldaoVjkQAwo6FXbbKEEQ6YyebETfbVas+n//1dyzGlarIYz//6l9//8zjESxTiapQ+ykrMsqGMpXME13EV0Rv623a0CJFfDZRsJsAXaTm0tvrVLFTkDZog7gXutDnQ0HSbHH0avcdFmo7iLbq+n5SP/1+nfQNMOKIunC6+rKaCi3gNCxyRAbL/4IZ9QCruSSyajVL/8zjEVhNxorWeegqu6LQGBhDia2J9G0xRn1pcRqxbbi2yctWRUc1DCJVKnqHV+VHKZf+bnbT//ewwOBQKPAReEGjn6OIU1auKelNenxW80i+hdpqtS5FwVKIP+NKQs02aEX9mUhODoZGtV/D/8zjEZyXTOqWeeV7/u0LZ+n3Mn5wEYFwGqWMJIL012JgLeukYzl0HAPgORwSCpkgIst7vCnOtR2YG1mil1SYPgYQkI3jmPgOIzHeipOm63osl6/sy6r7M37v639X+vq///1MsjLul7bf6lv3/8zjELh3zQnQAaZ/gsM+HyZhPCUkEODo7RrMgWNqUom5wBI0g8OlQMjIwl1WZ8+I4RmiFZziNh1vGA/HO5vr76erDBfskJNxH/hLt0yOc7h2KJK5UapkoqS2S3a1WJy5XssWHknb9BAAgan//8zjEFRRxxrpcYYrO+iIlxzWMU//7Q7Zd3ayghGCb27iHVBiNlOfqarGnlPMbqd/fLwsOrOpamtCTui/+niZaQkHh5yj/t/9QFQCm42pRHkiLAUiVqkdcH8Y7DA4SWv8isHcVxA7QR7J5bKf/8zjEIhS4vom4fhgsHdtxzFVWBOKt4xzKgBGBDADJQ4oZ/ZgEBY5VUGfIg1Pf+Bz7igCnP/cRtAWXhxdv1gTwl1ZAYZU71D25e1QpMJYawj0y9Dd7aYeA1vATtEmk0cSTgmmkqg3uaRkQ2ET/8zjELhTxtpD8wkq0jXbY/tRVaFzv19HMb+pCNRt/T77aoQ49jncKIPYf/+lKUhQlUIqD4Za2YH3ZvZZ8sJGWjO1NqI+SY/x4n2pUQFDkZUHy6GUjztn57Ibvsdz78sFkR3gFjusWLIDBRRj/8zjEORdZwsD8ew7aiWHcd7tv/LcWN+xX9zFiz9f8gYOILBpQIxuNzygcL3f/apSNlcO2IwN/tokbl9i4ENtlMkHcLMYNEktlOpwZubAf9elB82pyx+SkP+aLxYtRKBU2ZbgZrR5ehmBimQb/8zjEOhahprQ8ewbQJxCoDXdhFcOzRC8oTWuBp7uz0CAQOGgaGHWP/+g0ASqlhEAUABujvAH3VrM5/njCc2w/FazUgMgxmV+u0IR2vEtuo6MAUVcaJGFxozcRIZyoY2VSHZUL2+VSq0sztd//8zjEPhUiUsJfTygBlRO+fh1DalLL///vLXlZXMQBgkCLPlVnIIVTAgFULNLCBECg6FQyXsYFAhcEYmg8pTMmClxn5s/6V8OwyXvtv0yFmr16oXdU2W0AVO7XnYGgOUzt2sigYhqXK6iy+YP/8zjESCbSDnQ1m8AAIPqy2ZcmrhTRqe1/N18tfv61rHfMvx1+eu/r+f/67jvmWqd3WpWpqzjz705PXu44f9ruOHcs+Y8yx3ztnVDYlRxKDIdcAAMaDQmJHf/+OtAyDoGVGlWCqCIEQOlmlvn/8zjECw9YNiAVzAgAqtW1ER4FgaWdBo6WDpUFuIg1BpYLVuiXgs9bix3nf6zvEXWd5blTvEXt4i6zvEXWd4NKTEFNRTMuMTAwqqqqqqqqqqqqqqqqqqqqqqqqqqqqqqqqqqqqqqqqqqqqqqo=\" type=\"audio/mpeg\"/>\n",
       "                        Your browser does not support the audio element.\n",
       "                    </audio>\n",
       "                  "
      ],
      "text/plain": [
       "<pydub.audio_segment.AudioSegment at 0x1818f1c90>"
      ]
     },
     "metadata": {},
     "output_type": "display_data"
    },
    {
     "name": "stdout",
     "output_type": "stream",
     "text": [
      "Second 11:\n"
     ]
    },
    {
     "data": {
      "text/html": [
       "\n",
       "                    <audio controls>\n",
       "                        <source src=\"data:audio/mpeg;base64,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\" type=\"audio/mpeg\"/>\n",
       "                        Your browser does not support the audio element.\n",
       "                    </audio>\n",
       "                  "
      ],
      "text/plain": [
       "<pydub.audio_segment.AudioSegment at 0x180f41e10>"
      ]
     },
     "metadata": {},
     "output_type": "display_data"
    },
    {
     "name": "stdout",
     "output_type": "stream",
     "text": [
      "Second 5:\n"
     ]
    },
    {
     "data": {
      "text/html": [
       "\n",
       "                    <audio controls>\n",
       "                        <source src=\"data:audio/mpeg;base64,SUQzBAAAAAAAIlRTU0UAAAAOAAADTGF2ZjYxLjcuMTAwAAAAAAAAAAAAAAD/81jAAAAAAAAAAAAASW5mbwAAAA8AAAAeAAANXAAVFRUdHR0lJSUtLS0tNTU1PT09RkZGRk5OTlZWVl5eXl5mZmZubm52dnZ2fn5+hoaGjo6OjpaWlp6enqenp6evr6+3t7e/v7+/x8fHz8/P19fX19/f3+fn5+/v7+/39/f///8AAAAATGF2YzYxLjE5AAAAAAAAAAAAAAAAJALAAAAAAAAADVzV4WojAAAAAAAAAAAAAAD/8zjEABHS7nJTQRAAIVcUkB8CWY2/KSXBg/6EJ/85z/87//kJ///qfn//+QnU7/+c5znOd5z5CEnIQhCEIykAAAQRpzgAAACCE+QgAACDkoCAIYfVbQAt1c0222222yqk4cysCf9GY5Rrrr7/8zjEFxsLJrpdgkAA/475+beERSnpiKqHzqqP6d1vmmiea+L93u/4mLv+K+8wbjAgSbxl8iKfULQk/+6t3mv5+aLao47dkcbXTzFVavHN2/+ytFIiXT3/3Uc16uPZ/xT/iiqQSS2WSRuCgFj/8zjECRZB3rJbyygCklpI/79J6jztNTIRjruHcoiKOEA+4ig+0ooKAE5agpHuYWzOSjmIJMXPKQ1Sbt/1o4icaaXmbRtiqO7koNipEeHXXlyydO1rBW7LTujLAwlxu2Wbf9ZA4Qg2KAR+Ye7/8zjEDxgyUo5aQYsQhc7Qc6DS76//3s4g0Q59xGpY7k3zJ7i5VH5u3VSWfjF0WaijTujtV/+jlDQ12M+IgaUTvMHippr/tR6tMZTWDwWmOdEQlCR6dlg7zq03liIlphqqqpa3uGkeC5CsClb/8zjEDRexEpGQwZLMkWpuXIR8bKl+kWBSgpcjX2CgNdde17/dByezdCBlY5gJh9+MPJ6tHUNQLh4ABCG5MCiLdMBYMLPsqddQJxATESXUMWg0CdIRuM8keCUqkYr/pj/+5XjzdpQje0hoTlL/8zjEDRdJkqDIw8y4mz2w6tajUXKgHVCwxDZQvGGvt85ziPPmFSV/eC+iQaYfx6PbYlkju2aVrMqxglQ6U8rIdD+HLG55uvRhq46yCGs8OTyzThDsVKiF12FmhbdVSQOGRXfbuAP4l4Cpqwv/8zjEDhfR7sXeewTcJWDm/npGcCRE/PB6PmqccZ6H1+Rz+Ta+XihrFjs1nsnevJKZaMbh8lMizlF3Hy6+L2Hq+tr737W9LQutpTdc9y+rPqVZcua+iATRTqPWGLTqldkD7RSkoAoXHWi8H5f/8zjEDRSyTsWeYMT+kxGdav9sfs0UjqOj79PpEcM7w2hUhOqH7ZEh5nAWzY4EBLDvnyGWedLy0ZqUUI/gxaMHET9tQXD6xtYpW9vuU2lHQOxyOcpDvSauwA0PCdy5ZEWEqohQatieLUKpxGj/8zjEGRRKNsGeSMr3i8s+k0dAFVUww5LVX9cyowqAxIQCNxNKUqp8OTh+391UviwUDgrdG2VjcqVoauXzHpUV4M1D+EoqEL4qO2gCmMhKyJNvZTI3Z62re113jF2m71cKRhBQsXBTGUZTnsT/8zjEJhSyKpz+YM73GYIBNAYm7tmX5Z2WfnKtfm1NZXKCwTAOHx3qPtH3+csefq3m1ZiC5Cd4Ob2uIAjI0BBbhfJYp51fGeGWq6VzhgVjJjachpJev/2N/60ypTYzD9dEtpUaSMoUQOCFNZP/8zjEMhQZtnA+eY7UQ5kd9mFlRl8z/9e4ZItfqVd/+aJgwytBAP/h5yxtdQE6iaC+UAVIbdZpckY2oM3EwxQE6RNo8CuJGMZyCD6HZZkgpIvq+s/k4wUyU4HhNz/pcMmKGJCJitPVjsM+rbL/8zjEQBRRkn42yMrU89CEZjxoKH///njhLlQUV+dVC4UdkNv+AECKgChPA0x+hkkrEFJmAOkGLAF0Hsv6aSKEeKkn+9qL2p79v5fuYrHJw5OLjCqW6FS1gS1EfM1xF/ZItDOpONAnj7i/oz//8zjETRThuom+eFDE/xQWV1VBhSOQKsoAwZhks4G96CZFuXADkLvcDKH+YRkGarmM/Z76sf0sgfEnPLoX2Ozcx8w+BiiQqcVWPcw90P/t1TSriAGFCoR8PX/+UcD96RjiQY/DioyB6+iaUJH/8zjEWBQZonReeUTc1ZbKUAVBApTUHCQ7R5CUaTJ3A4zSLd2Sadv6BnaiPQtX6GKvaS9jIAQYHTQ0fc9FKNVfr27/1cv/555++kJNkZen0/nAabr0O+sQPNViggseMmMuQv8nClaFxO4ISuT/8zjEZhRBlmAMwJLQg5SgYGMnE02BhS0N8392QW1zfzLmVBYUAwwPB0pB+pSjJjFbTMPD3y1Zyzhj/////7zjBwheNev3EBz/6f/+XhkuLbQ4MOEJFiqNLAjC22cFYa8XhgSRztxiN//MQzb/8zjEdBUybmQ2wYqg+noYquYWRAqgUMb/2z/6/1OWygmL3r/Mf/1er5+ODS6CYSGPvNG5+Pg/HyGZ/TY89CY42QE7/w/VAYdLawIsR2kBLkxVsLSYf3DNI/0PY2efle0d/zkQpan+lSjspor/8zjEfhXKulwKwI6+TUWhd9/SqV//9TbFhwC21fHpf/x941u/hx9yf+lZLQ95lgY8kXl8ioN0qYB4D1tBzqk8yxnYTFmWj5IXO/Raru/gErMt84wkYhpLyVHk1KhwuwLF24ubp8aEp6GRNDf/8zjEhSU7NlgUwd7dE3zzs3oWuzrblfH+4ErOEAskEBVAOiyCETSEes+zPzUN/+lT+a6c+qkXqi6GMSW/Vmt0//+goRdRu85zNp/0p22hHCf5vefxJm7QT7lR88hJITBGtIRoCQlxep0TdoP/8zjETyMbOmQ0Ux/FdLsW7Z/qtvYmpUQo0lXDwFJAOQyT/jE4Ms7BgiNFoRggg3kUmWk3BCzIKSW6w5RnSfIeYDIcCo3KtKeNcrUaDP3IlSwtojf6EFT/9X0Qh7btYyoJg2r3odxVqZ/U2///8zjEIRSTJpGYKE3H/+d1HKYXKKYxMuP/fxMBmGEQEZClo1efazM7ntkf4frYru176dX7Y87///sxcj4VZVVINxySWRtDgsC+3ouhiXXb2rV848aJ22aBgNj2pAkVHVbp/rft6f+VBoOV1On/8zjELRPKQppYKYtDmsuJnijP/1f3d2HvONYMeLb9+hDfN2yUNaJSfkit//yRXqopOCQX+8xoZDmlvX2av/930BhCCuwIICbQUXzf96Oza//+0cji/6/aRyUGX/crb9ZpbCAydFEigBwIWVL/8zjEPBQivo5YKIbdIrbL/mf7MzhwdKUpBTrW++0ZY3faQgNupCjAIJgfSv/RnZDCD96Pov7F/pIKKh9P/7bDBhVKrcWylehlEW/NcRMfETBErhEYAoKLjQ6KjRwqHSCQgdDo/o9k1KsRI7L/8zjEShRa1nj6KArICIsR/DrmrVUIRlHIg6EFQPVCBry+bJbGTWa+QSs6Hjo8/zG8z/v90ONHH0//RLmDwZRPsRZEf//+tUHmLsah2aaaa1Dk//fiowi1Ae/5GhXynXQEugxd2jdS+K848VT/8zjEVxHSumz+OE50fu4JIxEBgvrbc7//ogOkbYpNyFkU/meXjMnsUMUoiLrQUJHituE24fTYxqnmanv/SrCsIf6s3///vnk1P+g4oAiNv1yhbSrqFvSbp4Y+aaWkvXdIVfNV00LUvq/zJ2b/8zjEbhVaTlgIek6cifmbo20S+945zqUYZoSUO8B0y/ti6mSCkBheTxN9KOPk1Ywnnrj//1qE4Pykcw4r/7TYf3qDcCP+2eZVEJQDwoQeiZoFm6KmDgmcSepxpl6AXp3/qq5sVhzxR0NloBH/8zjEdxTJomQIew64jMAsFZWlQgpBXlSj+vUpfbStjgQq5qStr0b//65e01tDKV//oXSoVuoCi1rZzpnoUKjCwFwHR5BOcU/sKMWgIUrSv6IRLTNyrzBw4OjYgKVQhxd3f73Un9X/1qyDgin/8zjEghTC0nD2SYR0fVtA6///9NRGAhB870q2ICwb+I9f//JKEtAViVwpK3huFP/vGT9Nsbe0lP/+FXNRbEyWv5pVm9gARCTOxaSINMomlik9h9+y2Gp/+ra5IFHla/0f///srqUSEYEPCqr/8zjEjhGaZlgUYIowWZ9B6tnf/6YJAKj4IwyeRahUXY1JjVgozNVjRjUmMKiw/zuscjICCoVhrDUMgpSbpNDWGv///3+HVgoMDoiK//1RUJAUEhgFAQ93/QROx6fy2mpMQU1FMy4xMDCqqqr/8zjEphOyLkgCekqcqqqqqqqqqqqqqqqqqqqqqqqqqqqqqqqqqqqqqqqqqqqqqqqqqqqqqqqqqqqqqqqqqqqqqqqqqqqqqqqqqqqqqqqqqqqqqqqqqqqqqqqqqqqqqqqqqqqqqqqqqqqqqqr/8zjEthKRkiQEYkYEqqqqqqqqqqqqqqqqqqqqqqqqqqqqqqqqqqqqqqqqqqqqqqqqqqqqqqqqqqqqqqqqqqqqqqqqqqqqqqqqqqqqqqqqqqqqqqqqqqqqqqqqqqqqqqqqqqqqqqqqqqqqqqo=\" type=\"audio/mpeg\"/>\n",
       "                        Your browser does not support the audio element.\n",
       "                    </audio>\n",
       "                  "
      ],
      "text/plain": [
       "<pydub.audio_segment.AudioSegment at 0x1818bebd0>"
      ]
     },
     "metadata": {},
     "output_type": "display_data"
    }
   ],
   "source": [
    "print(f'This clip has a deepfake probability of {round(deepfake_prob * 100, 2)}%\\n')\n",
    "print('The most likely deepfake seconds are:')\n",
    "for i, prob in probs_sorted[:5]:\n",
    "    print(f'    Second {i}: {prob:.2f}')\n",
    "print('')\n",
    "\n",
    "\n",
    "# load the audio\n",
    "audio = AudioSegment.from_file(file_path)\n",
    "\n",
    "# display the most likely deepfake seconds\n",
    "for i, prob in probs_sorted[:5]:\n",
    "    print(f'Second {i}:')\n",
    "    display(play_second(audio, i))"
   ]
  },
  {
   "cell_type": "code",
   "execution_count": null,
   "metadata": {},
   "outputs": [],
   "source": []
  }
 ],
 "metadata": {
  "kernelspec": {
   "display_name": "venv",
   "language": "python",
   "name": "python3"
  },
  "language_info": {
   "codemirror_mode": {
    "name": "ipython",
    "version": 3
   },
   "file_extension": ".py",
   "mimetype": "text/x-python",
   "name": "python",
   "nbconvert_exporter": "python",
   "pygments_lexer": "ipython3",
   "version": "3.11.3"
  }
 },
 "nbformat": 4,
 "nbformat_minor": 2
}
