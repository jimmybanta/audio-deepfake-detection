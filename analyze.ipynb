{
 "cells": [
  {
   "cell_type": "markdown",
   "metadata": {},
   "source": [
    "# Analyze\n",
    "Where you can analyze an audio file."
   ]
  },
  {
   "cell_type": "code",
   "execution_count": 129,
   "metadata": {},
   "outputs": [],
   "source": [
    "import torch\n",
    "from pydub import AudioSegment\n",
    "import pandas as pd\n",
    "from IPython.display import display\n",
    "\n",
    "from cnn.models import Model\n",
    "from data.import_data import load_dataset, get_dataloader, load_file\n",
    "from eval import eval_model"
   ]
  },
  {
   "cell_type": "code",
   "execution_count": 122,
   "metadata": {},
   "outputs": [],
   "source": [
    "# utility function\n",
    "def play_second(audio, second):\n",
    "    '''\n",
    "    Plays the audio for a given second of the file\n",
    "    '''\n",
    "\n",
    "    return audio[second * 1000: (second + 1) * 1000]"
   ]
  },
  {
   "cell_type": "code",
   "execution_count": 111,
   "metadata": {},
   "outputs": [
    {
     "data": {
      "text/html": [
       "<div>\n",
       "<style scoped>\n",
       "    .dataframe tbody tr th:only-of-type {\n",
       "        vertical-align: middle;\n",
       "    }\n",
       "\n",
       "    .dataframe tbody tr th {\n",
       "        vertical-align: top;\n",
       "    }\n",
       "\n",
       "    .dataframe thead th {\n",
       "        text-align: right;\n",
       "    }\n",
       "</style>\n",
       "<table border=\"1\" class=\"dataframe\">\n",
       "  <thead>\n",
       "    <tr style=\"text-align: right;\">\n",
       "      <th></th>\n",
       "      <th>file</th>\n",
       "      <th>speaker</th>\n",
       "      <th>label</th>\n",
       "      <th>numeric_label</th>\n",
       "      <th>length (sec)</th>\n",
       "    </tr>\n",
       "  </thead>\n",
       "  <tbody>\n",
       "    <tr>\n",
       "      <th>2441</th>\n",
       "      <td>21311.wav</td>\n",
       "      <td>Alec Guinness</td>\n",
       "      <td>spoof</td>\n",
       "      <td>1</td>\n",
       "      <td>24.727000</td>\n",
       "    </tr>\n",
       "    <tr>\n",
       "      <th>1659</th>\n",
       "      <td>14627.wav</td>\n",
       "      <td>Alec Guinness</td>\n",
       "      <td>spoof</td>\n",
       "      <td>1</td>\n",
       "      <td>24.645063</td>\n",
       "    </tr>\n",
       "    <tr>\n",
       "      <th>2714</th>\n",
       "      <td>23557.wav</td>\n",
       "      <td>Alec Guinness</td>\n",
       "      <td>bona-fide</td>\n",
       "      <td>0</td>\n",
       "      <td>23.437062</td>\n",
       "    </tr>\n",
       "    <tr>\n",
       "      <th>712</th>\n",
       "      <td>6404.wav</td>\n",
       "      <td>Alec Guinness</td>\n",
       "      <td>spoof</td>\n",
       "      <td>1</td>\n",
       "      <td>22.530062</td>\n",
       "    </tr>\n",
       "    <tr>\n",
       "      <th>1208</th>\n",
       "      <td>10661.wav</td>\n",
       "      <td>Alec Guinness</td>\n",
       "      <td>spoof</td>\n",
       "      <td>1</td>\n",
       "      <td>22.126000</td>\n",
       "    </tr>\n",
       "    <tr>\n",
       "      <th>...</th>\n",
       "      <td>...</td>\n",
       "      <td>...</td>\n",
       "      <td>...</td>\n",
       "      <td>...</td>\n",
       "      <td>...</td>\n",
       "    </tr>\n",
       "    <tr>\n",
       "      <th>2776</th>\n",
       "      <td>24015.wav</td>\n",
       "      <td>Alec Guinness</td>\n",
       "      <td>bona-fide</td>\n",
       "      <td>0</td>\n",
       "      <td>0.609000</td>\n",
       "    </tr>\n",
       "    <tr>\n",
       "      <th>51</th>\n",
       "      <td>487.wav</td>\n",
       "      <td>Alec Guinness</td>\n",
       "      <td>bona-fide</td>\n",
       "      <td>0</td>\n",
       "      <td>0.605000</td>\n",
       "    </tr>\n",
       "    <tr>\n",
       "      <th>2409</th>\n",
       "      <td>20988.wav</td>\n",
       "      <td>Alec Guinness</td>\n",
       "      <td>bona-fide</td>\n",
       "      <td>0</td>\n",
       "      <td>0.594063</td>\n",
       "    </tr>\n",
       "    <tr>\n",
       "      <th>2088</th>\n",
       "      <td>18276.wav</td>\n",
       "      <td>Alec Guinness</td>\n",
       "      <td>bona-fide</td>\n",
       "      <td>0</td>\n",
       "      <td>0.577063</td>\n",
       "    </tr>\n",
       "    <tr>\n",
       "      <th>2856</th>\n",
       "      <td>24753.wav</td>\n",
       "      <td>Alec Guinness</td>\n",
       "      <td>spoof</td>\n",
       "      <td>1</td>\n",
       "      <td>0.568000</td>\n",
       "    </tr>\n",
       "  </tbody>\n",
       "</table>\n",
       "<p>3624 rows × 5 columns</p>\n",
       "</div>"
      ],
      "text/plain": [
       "           file        speaker      label  numeric_label  length (sec)\n",
       "2441  21311.wav  Alec Guinness      spoof              1     24.727000\n",
       "1659  14627.wav  Alec Guinness      spoof              1     24.645063\n",
       "2714  23557.wav  Alec Guinness  bona-fide              0     23.437062\n",
       "712    6404.wav  Alec Guinness      spoof              1     22.530062\n",
       "1208  10661.wav  Alec Guinness      spoof              1     22.126000\n",
       "...         ...            ...        ...            ...           ...\n",
       "2776  24015.wav  Alec Guinness  bona-fide              0      0.609000\n",
       "51      487.wav  Alec Guinness  bona-fide              0      0.605000\n",
       "2409  20988.wav  Alec Guinness  bona-fide              0      0.594063\n",
       "2088  18276.wav  Alec Guinness  bona-fide              0      0.577063\n",
       "2856  24753.wav  Alec Guinness      spoof              1      0.568000\n",
       "\n",
       "[3624 rows x 5 columns]"
      ]
     },
     "execution_count": 111,
     "metadata": {},
     "output_type": "execute_result"
    }
   ],
   "source": [
    "# get the evaluation data, sorted to show the longest clips\n",
    "\n",
    "eval_data = pd.read_csv('data/meta/eval.csv')\n",
    "eval_data.sort_values('length (sec)', ascending=False)"
   ]
  },
  {
   "cell_type": "code",
   "execution_count": 119,
   "metadata": {},
   "outputs": [],
   "source": [
    "# set the paths to the file you want to analyze, and the model\n",
    "file_path = 'data_files/14627.wav'\n",
    "model_path = 'models/0.pth'\n",
    "\n",
    "# load the model\n",
    "model = Model(num_channels=16)\n",
    "model.load_state_dict(torch.load(model_path))\n",
    "\n",
    "# load the file\n",
    "file_tensors = load_file(file_path)\n",
    "\n",
    "# run the clip through the model\n",
    "model.eval()\n",
    "\n",
    "with torch.no_grad():\n",
    "    model_preds = model(torch.stack(file_tensors))[:, 0]\n",
    "\n",
    "\n",
    "# get the average probability of deepfake\n",
    "average_prob = model_preds.mean().item()\n",
    "\n",
    "# sort the seconds by their deepfake probability\n",
    "probs_sorted = sorted([(i, prob.item()) for i, prob in enumerate(model_preds)], key=lambda x: x[1], reverse=True)"
   ]
  },
  {
   "cell_type": "markdown",
   "metadata": {},
   "source": [
    "## Display Results"
   ]
  },
  {
   "cell_type": "code",
   "execution_count": 136,
   "metadata": {},
   "outputs": [
    {
     "name": "stdout",
     "output_type": "stream",
     "text": [
      "This clip has an average deepfake probability of 49.89%\n",
      "\n",
      "The most likely deepfake seconds are:\n",
      "    Second 19: 0.65\n",
      "    Second 23: 0.61\n",
      "    Second 20: 0.60\n",
      "    Second 2: 0.59\n",
      "    Second 15: 0.59\n",
      "\n",
      "Second 19:\n"
     ]
    },
    {
     "data": {
      "text/html": [
       "\n",
       "                    <audio controls>\n",
       "                        <source src=\"data:audio/mpeg;base64,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\" type=\"audio/mpeg\"/>\n",
       "                        Your browser does not support the audio element.\n",
       "                    </audio>\n",
       "                  "
      ],
      "text/plain": [
       "<pydub.audio_segment.AudioSegment at 0x180749e90>"
      ]
     },
     "metadata": {},
     "output_type": "display_data"
    },
    {
     "name": "stdout",
     "output_type": "stream",
     "text": [
      "Second 23:\n"
     ]
    },
    {
     "data": {
      "text/html": [
       "\n",
       "                    <audio controls>\n",
       "                        <source src=\"data:audio/mpeg;base64,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\" type=\"audio/mpeg\"/>\n",
       "                        Your browser does not support the audio element.\n",
       "                    </audio>\n",
       "                  "
      ],
      "text/plain": [
       "<pydub.audio_segment.AudioSegment at 0x1807fc190>"
      ]
     },
     "metadata": {},
     "output_type": "display_data"
    },
    {
     "name": "stdout",
     "output_type": "stream",
     "text": [
      "Second 20:\n"
     ]
    },
    {
     "data": {
      "text/html": [
       "\n",
       "                    <audio controls>\n",
       "                        <source src=\"data:audio/mpeg;base64,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\" type=\"audio/mpeg\"/>\n",
       "                        Your browser does not support the audio element.\n",
       "                    </audio>\n",
       "                  "
      ],
      "text/plain": [
       "<pydub.audio_segment.AudioSegment at 0x17fe85c50>"
      ]
     },
     "metadata": {},
     "output_type": "display_data"
    },
    {
     "name": "stdout",
     "output_type": "stream",
     "text": [
      "Second 2:\n"
     ]
    },
    {
     "data": {
      "text/html": [
       "\n",
       "                    <audio controls>\n",
       "                        <source src=\"data:audio/mpeg;base64,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\" type=\"audio/mpeg\"/>\n",
       "                        Your browser does not support the audio element.\n",
       "                    </audio>\n",
       "                  "
      ],
      "text/plain": [
       "<pydub.audio_segment.AudioSegment at 0x18078ecd0>"
      ]
     },
     "metadata": {},
     "output_type": "display_data"
    },
    {
     "name": "stdout",
     "output_type": "stream",
     "text": [
      "Second 15:\n"
     ]
    },
    {
     "data": {
      "text/html": [
       "\n",
       "                    <audio controls>\n",
       "                        <source src=\"data:audio/mpeg;base64,SUQzBAAAAAAAIlRTU0UAAAAOAAADTGF2ZjYxLjcuMTAwAAAAAAAAAAAAAAD/81jAAAAAAAAAAAAASW5mbwAAAA8AAAAeAAANXAAVFRUdHR0lJSUtLS0tNTU1PT09RkZGRk5OTlZWVl5eXl5mZmZubm52dnZ2fn5+hoaGjo6OjpaWlp6enqenp6evr6+3t7e/v7+/x8fHz8/P19fX19/f3+fn5+/v7+/39/f///8AAAAATGF2YzYxLjE5AAAAAAAAAAAAAAAAJALAAAAAAAAADVxkOFUFAAAAAAAAAAAAAAD/8zjEABN6bnL5QRABAAeAsGhdIBxjfHGMfAAAAAB/85/+v5zvyE/3//X/oQjZCEI3+c5z/8hznOc5znAAAQRvOcDAwMDFnOIIAAABx3gAj44eHv///8HdDAAQTYEAgAkEkkEAklV/5YIQgPz/8zjEERl7fsZdgigCz+v/7t2/zdul3ddH//9P/+o0eeHSgIhlDTJUSrOyOqlvrGmExAXLSpLsYxR1boY7MPGIhRQ1iumZZCCJXIYOjEqzh0TkEhNhYSKMNUrmHP//+OP/1SrLZLLbZVs7ndb/8zjECheRrq5d2BACVwqXo1gBRoAtd/1zg4ambJ4gyB5KT+Yf+uYC1DhygZynkSLFnIVjmQiDtVDjl5H8vmVDf//uaCCDuVWigyp5INAp+jFiQ4QuDSCte3TyoKnvZoXnVQC1bLLaE3AB36v/8zjEChapDq5ew8yyQMs45cuQ3JAgkqczDIo09OY6hQIihOo0Ia41RyUhCx1ow3yvX1c8gLtC2djNNjQ9eLgS9lQ8k5g2/YXbPrH1eumxn/+ANav/+mxsJFiMSndqfrgJPZh0qARlgS0tOwz/8zjEDhcxtnwU2kS04nDUxZHxPcxAMZ7DcAmFEhdJ6xAASDyBdmwugE1nxPSUCBgmKgaRJSGRShNoTLbKDcjT+miGsimajvt//myuqKFOjpqUF/8sLDQcFdBeXoGlciikg1BgLksFhdALRzT/8zjEEBcbEqj+eE0eyQc5HBpVNbw3Wrb9oNbWz84PkKRCcvNPKE/LF5wr///8Y0b6fj///+z8QnQIEc8Lae0eU3PTz8EQjGxyYOFkydGKw/X/vf/+6dg/w/VYXZYUacRwroOIkxfkNiWewof/8zjEEhf7PogqeFMdSNXOsb3////nvOvr////////5C/36/18E2SgmNtlDGFx9kujRKahHlRHKrjU0EZEskBBCZI3N7DbZi7J5zI26xdHX6pOkjdNRiSBggdISkEolt2e7zIjrThAXZvTrN//8zjEERkzNsJcOJDf/RHMYTK/rRmu9iFIQjKYdpHO7VOrkNVrf/+Q16YehAxXeii03s6fvmOuUSvGUbb+/BkkPdjHR96GvKd+/oWbYuY0dFHpI2euZEq6nXQnBbTGsMtejb2u2t2c5uGIl0n/8zjECxRplsZaSYS6VpxhuBcbC4UBk2TrMhnu4+vb4ThshHx3vw2PpaXiKw7MsAS8VUbcOILT///qIRpxbnkHlzf/zySYqTE6TPjND12HbZKhYNVu2222yALX9f4DEgdHFaQFiaPZkgJLrsT/8zjEGBPA6s5YxkxefjuyGBXqmwIMiS60hp5+xlt0GCV7Lpp13OzM4+kdrtLTHi05MKZrXdjkIPpxYOlIgAbn///1EwbHXY4XUEXkHpyLSgsGhMTQ3jZ2FzUzY6oGKjmoK4tnp+z7fn+QWLr/8zjEKBRI8rJaBl4U52wsx2MvrbmxMTyY1HDCC6btNi1vXpv/xloffJsGV/5F0MvBb//0KXcqgQ6CgLRTP2DF1FaRPT7itrxCoL1xV0FbH1duN1SvsBGUDNDymem+/X/////6ezV/////96v/8zjENRUrPqzeeMqxL6nP//xSQ+RhovUrqMDhBAUI5BAhBRUYiwmBxMXD7z1pxuWy3YQKQUDhhT1YQ2XdStlshmq5qX+g5SPZN9zZeJ0ojWIjJpHz//+ZfJZc1////z7Hcf/B5Z8lOCsYEkH/8zjEPxR7PtpeEFOT2IGF/aN61ZGTd7MTqLkZwtq+Sk01JHG7EvfDOSbfZYKh3eCOSFGNSWe8/qskadk54qVXJItEmRkRjrUE7oxEWZk1qX//51/oCKzkU5zDP6LdTrkgYByJ6VFlHWqY2x7/8zjETBTZ2rJYeYQ+RFk4FvDRwzVJOyfe38OBLuQLmWvxlvOoaVX/4BP5n+1gEaqUZm1ZmoCu237MwMmOHrmMwVENqW3//UxtNWAW2mmlKWpSsolgVsuK3yzxKBeV6Fug0e5XqBl08SURScf/8zjEVxTiBppcSMScAU5mkPJSQc44ycVB5v37mpGShQ41TvqT2OdxMXQhJzv9CNIhGPkFAd8hPPbyP7+lACCcAFBxAQIIZQY7sJGNZZNvX6lSspWoV2WCdFEPf4lVxm2AjpAIuSdqZlLR6lz/8zjEYhTSamQ8eUScQAgaHXEDACQhCFApowW8T8yiwOsohUSHQztafJ2VBJIhhjrFnJeGrMY0EIX0euFGr2d3PcUWZPG+8X9tz/Vf/F+71/5cQWenhod0Ln409OSx7//+pXfkaFIwBj3Gy5f/8zjEbRihwmwA09CUqAk86gHIApfgCUTKxRFIQgpmM2EZKV6NgICM7UfXdSS99kCSV0jekdCphrzKy92bXlDQQUJJMjV2sZSENUToZqhiS2AJ3EBVDKran1fV+K1KjecFa4GM40CiCCwEDYn/8zjEaR8SZnAA2YtBhAVwIPFxdHna52+v/0ZaFQmo+RXEudvAHOWEl1eSqOgndC2PMYgJOLKbSxmeypr0gw5LmKiKXsldaoVjkQAwo6FXbbKEEQ6YyebETfbVas+n//1dyzGlarIYz//6l9//8zjESxTiapQ+ykrMsqGMpXME13EV0Rv623a0CJFfDZRsJsAXaTm0tvrVLFTkDZog7gXutDnQ0HSbHH0avcdFmo7iLbq+n5SP/1+nfQNMOKIunC6+rKaCi3gNCxyRAbL/4IZ9QCruSSyajVL/8zjEVhNxorWeegqu6LQGBhDia2J9G0xRn1pcRqxbbi2yctWRUc1DCJVKnqHV+VHKZf+bnbT//ewwOBQKPAReEGjn6OIU1auKelNenxW80i+hdpqtS5FwVKIP+NKQs02aEX9mUhODoZGtV/D/8zjEZyXTOqWeeV7/u0LZ+n3Mn5wEYFwGqWMJIL012JgLeukYzl0HAPgORwSCpkgIst7vCnOtR2YG1mil1SYPgYQkI3jmPgOIzHeipOm63osl6/sy6r7M37v639X+vq///1MsjLul7bf6lv3/8zjELh3zQnQAaZ/gsM+HyZhPCUkEODo7RrMgWNqUom5wBI0g8OlQMjIwl1WZ8+I4RmiFZziNh1vGA/HO5vr76erDBfskJNxH/hLt0yOc7h2KJK5UapkoqS2S3a1WJy5XssWHknb9BAAgan//8zjEFRRxxrpcYYrO+iIlxzWMU//7Q7Zd3ayghGCb27iHVBiNlOfqarGnlPMbqd/fLwsOrOpamtCTui/+niZaQkHh5yj/t/9QFQCm42pRHkiLAUiVqkdcH8Y7DA4SWv8isHcVxA7QR7J5bKf/8zjEIhS4vom4fhgsHdtxzFVWBOKt4xzKgBGBDADJQ4oZ/ZgEBY5VUGfIg1Pf+Bz7igCnP/cRtAWXhxdv1gTwl1ZAYZU71D25e1QpMJYawj0y9Dd7aYeA1vATtEmk0cSTgmmkqg3uaRkQ2ET/8zjELhTxtpD8wkq0jXbY/tRVaFzv19HMb+pCNRt/T77aoQ49jncKIPYf/+lKUhQlUIqD4Za2YH3ZvZZ8sJGWjO1NqI+SY/x4n2pUQFDkZUHy6GUjztn57Ibvsdz78sFkR3gFjusWLIDBRRj/8zjEORdZwsD8ew7aiWHcd7tv/LcWN+xX9zFiz9f8gYOILBpQIxuNzygcL3f/apSNlcO2IwN/tokbl9i4ENtlMkHcLMYNEktlOpwZubAf9elB82pyx+SkP+aLxYtRKBU2ZbgZrR5ehmBimQb/8zjEOhahprQ8ewbQJxCoDXdhFcOzRC8oTWuBp7uz0CAQOGgaGHWP/+g0ASqlhEAUABujvAH3VrM5/njCc2w/FazUgMgxmV+u0IR2vEtuo6MAUVcaJGFxozcRIZyoY2VSHZUL2+VSq0sztd//8zjEPhUiUsJfTygBlRO+fh1DalLL///vLXlZXMQBgkCLPlVnIIVTAgFULNLCBECg6FQyXsYFAhcEYmg8pTMmClxn5s/6V8OwyXvtv0yFmr16oXdU2W0AVO7XnYGgOUzt2sigYhqXK6iy+YP/8zjESCbSDnQ1m8AAIPqy2ZcmrhTRqe1/N18tfv61rHfMvx1+eu/r+f/67jvmWqd3WpWpqzjz705PXu44f9ruOHcs+Y8yx3ztnVDYlRxKDIdcAAMaDQmJHf/+OtAyDoGVGlWCqCIEQOlmlvn/8zjECw9YNiAVzAgAqtW1ER4FgaWdBo6WDpUFuIg1BpYLVuiXgs9bix3nf6zvEXWd5blTvEXt4i6zvEXWd4NKTEFNRTMuMTAwqqqqqqqqqqqqqqqqqqqqqqqqqqqqqqqqqqqqqqqqqqqqqqo=\" type=\"audio/mpeg\"/>\n",
       "                        Your browser does not support the audio element.\n",
       "                    </audio>\n",
       "                  "
      ],
      "text/plain": [
       "<pydub.audio_segment.AudioSegment at 0x180729e10>"
      ]
     },
     "metadata": {},
     "output_type": "display_data"
    }
   ],
   "source": [
    "print(f'This clip has an average deepfake probability of {round(average_prob * 100, 2)}%\\n')\n",
    "print('The most likely deepfake seconds are:')\n",
    "for i, prob in probs_sorted[:5]:\n",
    "    print(f'    Second {i}: {prob:.2f}')\n",
    "print('')\n",
    "\n",
    "\n",
    "# load the audio\n",
    "audio = AudioSegment.from_file(file_path)\n",
    "\n",
    "# display the most likely deepfake seconds\n",
    "for i, prob in probs_sorted[:5]:\n",
    "    print(f'Second {i}:')\n",
    "    display(play_second(audio, i))"
   ]
  },
  {
   "cell_type": "code",
   "execution_count": null,
   "metadata": {},
   "outputs": [],
   "source": []
  },
  {
   "cell_type": "code",
   "execution_count": null,
   "metadata": {},
   "outputs": [],
   "source": []
  }
 ],
 "metadata": {
  "kernelspec": {
   "display_name": "venv",
   "language": "python",
   "name": "python3"
  },
  "language_info": {
   "codemirror_mode": {
    "name": "ipython",
    "version": 3
   },
   "file_extension": ".py",
   "mimetype": "text/x-python",
   "name": "python",
   "nbconvert_exporter": "python",
   "pygments_lexer": "ipython3",
   "version": "3.11.3"
  }
 },
 "nbformat": 4,
 "nbformat_minor": 2
}
