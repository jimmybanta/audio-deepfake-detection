{
 "cells": [
  {
   "cell_type": "markdown",
   "metadata": {},
   "source": [
    "# Model Building\n",
    "Where I build the CNN model"
   ]
  },
  {
   "cell_type": "code",
   "execution_count": 13,
   "metadata": {},
   "outputs": [
    {
     "data": {
      "text/plain": [
       "True"
      ]
     },
     "execution_count": 13,
     "metadata": {},
     "output_type": "execute_result"
    }
   ],
   "source": [
    "import sys\n",
    "import os\n",
    "\n",
    "from dotenv import load_dotenv\n",
    "\n",
    "import torch\n",
    "import torch.nn as nn\n",
    "import torch.nn.functional as F\n",
    "\n",
    "# add parent directory to path so I can import from data)\n",
    "sys.path.append(os.getenv('HOME_DIR'))\n",
    "\n",
    "from data.import_data import load_dataset\n",
    "\n",
    "load_dotenv()"
   ]
  },
  {
   "cell_type": "code",
   "execution_count": 14,
   "metadata": {},
   "outputs": [],
   "source": [
    "device = torch.device('cuda' if torch.cuda.is_available() else 'cpu')\n",
    "loss_func = nn.BCELoss()"
   ]
  },
  {
   "cell_type": "code",
   "execution_count": 15,
   "metadata": {},
   "outputs": [],
   "source": [
    "class Model(nn.Module):\n",
    "    '''\n",
    "    A CNN with 1 convolutional layer and 1 linear layer.\n",
    "    '''\n",
    "    def __init__(self, num_channels):\n",
    "        super().__init__()\n",
    "                \n",
    "        self.layer1 = nn.Sequential(\n",
    "            nn.Conv2d(in_channels=1, \n",
    "                      out_channels=num_channels, \n",
    "                      kernel_size=(3, 3),\n",
    "                      stride=1,),\n",
    "            nn.ReLU(),\n",
    "            nn.MaxPool2d(kernel_size=(2, 2), stride=2, padding=0),\n",
    "        )\n",
    "        self.layer2 = nn.Linear(num_channels * 63 * 39, 2)\n",
    "\n",
    "        \n",
    "    def forward(self, x):\n",
    "        x = self.layer1(x)\n",
    "        x = torch.flatten(x, 1)\n",
    "        x = F.softmax(self.layer2(x), dim=1)\n",
    "        return x"
   ]
  },
  {
   "cell_type": "code",
   "execution_count": 16,
   "metadata": {},
   "outputs": [],
   "source": [
    "model = Model(num_channels=16).to(device)"
   ]
  },
  {
   "cell_type": "code",
   "execution_count": 17,
   "metadata": {},
   "outputs": [
    {
     "name": "stdout",
     "output_type": "stream",
     "text": [
      "Name: layer1.0.weight\n",
      "Size: torch.Size([16, 1, 3, 3])\n",
      "Name: layer1.0.bias\n",
      "Size: torch.Size([16])\n",
      "Name: layer2.weight\n",
      "Size: torch.Size([2, 39312])\n",
      "Name: layer2.bias\n",
      "Size: torch.Size([2])\n"
     ]
    }
   ],
   "source": [
    "# view model parameters\n",
    "for name, param in model.named_parameters():\n",
    "    print(f\"Name: {name}\")\n",
    "    print(f\"Size: {param.size()}\")"
   ]
  },
  {
   "cell_type": "code",
   "execution_count": 18,
   "metadata": {},
   "outputs": [],
   "source": [
    "train_dl = load_dataset(os.path.join(os.getenv('HOME_DIR'),'data/train_meta.csv'), files_to_load=100)"
   ]
  },
  {
   "cell_type": "code",
   "execution_count": 19,
   "metadata": {},
   "outputs": [
    {
     "name": "stdout",
     "output_type": "stream",
     "text": [
      "tensor([[0.0757, 0.9243],\n",
      "        [0.3537, 0.6463],\n",
      "        [0.4878, 0.5122],\n",
      "        [0.4318, 0.5682],\n",
      "        [0.4652, 0.5348],\n",
      "        [0.4648, 0.5352],\n",
      "        [0.0853, 0.9147],\n",
      "        [0.4224, 0.5776],\n",
      "        [0.4603, 0.5397],\n",
      "        [0.4224, 0.5776],\n",
      "        [0.6064, 0.3936],\n",
      "        [0.4636, 0.5364],\n",
      "        [0.2194, 0.7806],\n",
      "        [0.5009, 0.4991],\n",
      "        [0.4654, 0.5346],\n",
      "        [0.9919, 0.0081],\n",
      "        [0.4685, 0.5315],\n",
      "        [0.8559, 0.1441],\n",
      "        [0.9665, 0.0335],\n",
      "        [0.4004, 0.5996],\n",
      "        [0.2156, 0.7844],\n",
      "        [0.4661, 0.5339],\n",
      "        [0.7323, 0.2677],\n",
      "        [0.4723, 0.5277],\n",
      "        [0.9356, 0.0644],\n",
      "        [0.5405, 0.4595],\n",
      "        [0.0340, 0.9660],\n",
      "        [0.5571, 0.4429],\n",
      "        [0.4161, 0.5839],\n",
      "        [0.3593, 0.6407],\n",
      "        [0.9343, 0.0657],\n",
      "        [0.3876, 0.6124]], grad_fn=<SoftmaxBackward0>)\n",
      "tensor([[0., 1.],\n",
      "        [1., 0.],\n",
      "        [1., 0.],\n",
      "        [1., 0.],\n",
      "        [0., 1.],\n",
      "        [0., 1.],\n",
      "        [1., 0.],\n",
      "        [1., 0.],\n",
      "        [1., 0.],\n",
      "        [1., 0.],\n",
      "        [0., 1.],\n",
      "        [0., 1.],\n",
      "        [0., 1.],\n",
      "        [0., 1.],\n",
      "        [0., 1.],\n",
      "        [0., 1.],\n",
      "        [0., 1.],\n",
      "        [1., 0.],\n",
      "        [0., 1.],\n",
      "        [1., 0.],\n",
      "        [1., 0.],\n",
      "        [0., 1.],\n",
      "        [0., 1.],\n",
      "        [0., 1.],\n",
      "        [1., 0.],\n",
      "        [1., 0.],\n",
      "        [1., 0.],\n",
      "        [0., 1.],\n",
      "        [1., 0.],\n",
      "        [1., 0.],\n",
      "        [0., 1.],\n",
      "        [0., 1.]])\n"
     ]
    }
   ],
   "source": [
    "for batch, labels in train_dl:\n",
    "    batch = batch.to(device)\n",
    "    labels = labels.to(device)\n",
    "    output = model(batch)\n",
    "    loss = loss_func(output, labels)\n",
    "    #print(f\"Loss: {loss}\")\n",
    "    print(output)\n",
    "    print(labels)\n",
    "\n",
    "    break"
   ]
  },
  {
   "cell_type": "code",
   "execution_count": 20,
   "metadata": {},
   "outputs": [
    {
     "data": {
      "text/plain": [
       "Model(\n",
       "  (layer1): Sequential(\n",
       "    (0): Conv2d(1, 16, kernel_size=(3, 3), stride=(1, 1))\n",
       "    (1): ReLU()\n",
       "    (2): MaxPool2d(kernel_size=(2, 2), stride=2, padding=0, dilation=1, ceil_mode=False)\n",
       "  )\n",
       "  (layer2): Linear(in_features=39312, out_features=2, bias=True)\n",
       ")"
      ]
     },
     "execution_count": 20,
     "metadata": {},
     "output_type": "execute_result"
    }
   ],
   "source": [
    "model"
   ]
  },
  {
   "cell_type": "code",
   "execution_count": null,
   "metadata": {},
   "outputs": [],
   "source": []
  }
 ],
 "metadata": {
  "kernelspec": {
   "display_name": "venv",
   "language": "python",
   "name": "python3"
  },
  "language_info": {
   "codemirror_mode": {
    "name": "ipython",
    "version": 3
   },
   "file_extension": ".py",
   "mimetype": "text/x-python",
   "name": "python",
   "nbconvert_exporter": "python",
   "pygments_lexer": "ipython3",
   "version": "3.11.3"
  }
 },
 "nbformat": 4,
 "nbformat_minor": 2
}
