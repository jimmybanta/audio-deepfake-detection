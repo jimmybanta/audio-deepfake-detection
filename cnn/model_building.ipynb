{
 "cells": [
  {
   "cell_type": "markdown",
   "metadata": {},
   "source": [
    "# Model Building\n",
    "Where I build the CNN model"
   ]
  },
  {
   "cell_type": "code",
   "execution_count": 12,
   "metadata": {},
   "outputs": [
    {
     "data": {
      "text/plain": [
       "True"
      ]
     },
     "execution_count": 12,
     "metadata": {},
     "output_type": "execute_result"
    }
   ],
   "source": [
    "import sys\n",
    "import os\n",
    "\n",
    "from dotenv import load_dotenv\n",
    "\n",
    "import torch\n",
    "import torch.nn as nn\n",
    "import torch.nn.functional as F\n",
    "\n",
    "# add parent directory to path so I can import from data)\n",
    "sys.path.append(os.getenv('HOME_DIR'))\n",
    "\n",
    "from data.import_data import load_dataset, get_dataloader\n",
    "\n",
    "load_dotenv()"
   ]
  },
  {
   "cell_type": "code",
   "execution_count": 2,
   "metadata": {},
   "outputs": [],
   "source": [
    "device = torch.device('cuda' if torch.cuda.is_available() else 'cpu')\n",
    "loss_func = nn.BCELoss()"
   ]
  },
  {
   "cell_type": "code",
   "execution_count": 19,
   "metadata": {},
   "outputs": [],
   "source": [
    "class Model(nn.Module):\n",
    "    '''\n",
    "    A CNN with 1 convolutional layer and 1 linear layer.\n",
    "    '''\n",
    "    def __init__(self, num_channels):\n",
    "        super().__init__()\n",
    "                \n",
    "        self.layer1 = nn.Sequential(\n",
    "            nn.Conv2d(in_channels=1, \n",
    "                      out_channels=num_channels, \n",
    "                      kernel_size=(3, 3),\n",
    "                      stride=1,),\n",
    "            nn.BatchNorm2d(num_channels),\n",
    "            nn.ReLU(),\n",
    "            nn.MaxPool2d(kernel_size=(2, 2), stride=2, padding=0),\n",
    "            nn.Dropout(0.2)\n",
    "        )\n",
    "        self.layer2 = nn.Linear(num_channels * 63 * 39, 2)\n",
    "\n",
    "        \n",
    "    def forward(self, x):\n",
    "        x = self.layer1(x)\n",
    "        x = torch.flatten(x, 1)\n",
    "        x = F.softmax(self.layer2(x), dim=1)\n",
    "        return x"
   ]
  },
  {
   "cell_type": "code",
   "execution_count": 20,
   "metadata": {},
   "outputs": [],
   "source": [
    "model = Model(num_channels=16).to(device)"
   ]
  },
  {
   "cell_type": "code",
   "execution_count": 21,
   "metadata": {},
   "outputs": [
    {
     "name": "stdout",
     "output_type": "stream",
     "text": [
      "Name: layer1.0.weight\n",
      "Size: torch.Size([16, 1, 3, 3])\n",
      "Name: layer1.0.bias\n",
      "Size: torch.Size([16])\n",
      "Name: layer1.1.weight\n",
      "Size: torch.Size([16])\n",
      "Name: layer1.1.bias\n",
      "Size: torch.Size([16])\n",
      "Name: layer2.weight\n",
      "Size: torch.Size([2, 39312])\n",
      "Name: layer2.bias\n",
      "Size: torch.Size([2])\n"
     ]
    }
   ],
   "source": [
    "# view model parameters\n",
    "for name, param in model.named_parameters():\n",
    "    print(f\"Name: {name}\")\n",
    "    print(f\"Size: {param.size()}\")"
   ]
  },
  {
   "cell_type": "code",
   "execution_count": 22,
   "metadata": {},
   "outputs": [],
   "source": [
    "train_ds = load_dataset(os.path.join(os.getenv('HOME_DIR'),'data/meta/train.csv'), files_to_load=100)\n",
    "train_dl = get_dataloader(train_ds, batch_size=32)"
   ]
  },
  {
   "cell_type": "code",
   "execution_count": 23,
   "metadata": {},
   "outputs": [
    {
     "name": "stdout",
     "output_type": "stream",
     "text": [
      "tensor([[0.8131, 0.1869],\n",
      "        [0.5021, 0.4979],\n",
      "        [0.4771, 0.5229],\n",
      "        [0.5163, 0.4837],\n",
      "        [0.4988, 0.5012],\n",
      "        [0.5371, 0.4629],\n",
      "        [0.0423, 0.9577],\n",
      "        [0.6550, 0.3450],\n",
      "        [0.4921, 0.5079],\n",
      "        [0.3390, 0.6610],\n",
      "        [0.5045, 0.4955],\n",
      "        [0.5314, 0.4686],\n",
      "        [0.4792, 0.5208],\n",
      "        [0.5360, 0.4640],\n",
      "        [0.9894, 0.0106],\n",
      "        [0.5128, 0.4872],\n",
      "        [0.2789, 0.7211],\n",
      "        [0.4537, 0.5463],\n",
      "        [0.5783, 0.4217],\n",
      "        [0.4519, 0.5481],\n",
      "        [0.4974, 0.5026],\n",
      "        [0.7242, 0.2758],\n",
      "        [0.5069, 0.4931],\n",
      "        [0.5025, 0.4975],\n",
      "        [0.5098, 0.4902],\n",
      "        [0.4919, 0.5081],\n",
      "        [0.4932, 0.5068],\n",
      "        [0.4976, 0.5024],\n",
      "        [0.4860, 0.5140],\n",
      "        [0.5499, 0.4501],\n",
      "        [0.5062, 0.4938],\n",
      "        [0.4925, 0.5075]], grad_fn=<SoftmaxBackward0>)\n",
      "tensor([[0., 1.],\n",
      "        [1., 0.],\n",
      "        [1., 0.],\n",
      "        [1., 0.],\n",
      "        [1., 0.],\n",
      "        [1., 0.],\n",
      "        [0., 1.],\n",
      "        [0., 1.],\n",
      "        [1., 0.],\n",
      "        [0., 1.],\n",
      "        [1., 0.],\n",
      "        [0., 1.],\n",
      "        [1., 0.],\n",
      "        [0., 1.],\n",
      "        [0., 1.],\n",
      "        [1., 0.],\n",
      "        [0., 1.],\n",
      "        [0., 1.],\n",
      "        [0., 1.],\n",
      "        [1., 0.],\n",
      "        [0., 1.],\n",
      "        [0., 1.],\n",
      "        [1., 0.],\n",
      "        [1., 0.],\n",
      "        [1., 0.],\n",
      "        [0., 1.],\n",
      "        [0., 1.],\n",
      "        [1., 0.],\n",
      "        [0., 1.],\n",
      "        [0., 1.],\n",
      "        [0., 1.],\n",
      "        [1., 0.]])\n"
     ]
    }
   ],
   "source": [
    "for batch, labels in train_dl:\n",
    "\n",
    "\n",
    "    batch = batch.to(device)\n",
    "    labels = labels.to(device)\n",
    "    output = model(batch)\n",
    "    loss = loss_func(output, labels)\n",
    "    #print(f\"Loss: {loss}\")\n",
    "    print(output)\n",
    "    print(labels)\n",
    "\n",
    "    break"
   ]
  },
  {
   "cell_type": "code",
   "execution_count": 18,
   "metadata": {},
   "outputs": [
    {
     "data": {
      "text/plain": [
       "Model(\n",
       "  (layer1): Sequential(\n",
       "    (0): Conv2d(1, 16, kernel_size=(3, 3), stride=(1, 1))\n",
       "    (1): BatchNorm2d(16, eps=1e-05, momentum=0.1, affine=True, track_running_stats=True)\n",
       "    (2): ReLU()\n",
       "    (3): MaxPool2d(kernel_size=(2, 2), stride=2, padding=0, dilation=1, ceil_mode=False)\n",
       "  )\n",
       "  (layer2): Linear(in_features=39312, out_features=2, bias=True)\n",
       ")"
      ]
     },
     "execution_count": 18,
     "metadata": {},
     "output_type": "execute_result"
    }
   ],
   "source": [
    "model"
   ]
  },
  {
   "cell_type": "code",
   "execution_count": null,
   "metadata": {},
   "outputs": [],
   "source": []
  }
 ],
 "metadata": {
  "kernelspec": {
   "display_name": "venv",
   "language": "python",
   "name": "python3"
  },
  "language_info": {
   "codemirror_mode": {
    "name": "ipython",
    "version": 3
   },
   "file_extension": ".py",
   "mimetype": "text/x-python",
   "name": "python",
   "nbconvert_exporter": "python",
   "pygments_lexer": "ipython3",
   "version": "3.11.3"
  }
 },
 "nbformat": 4,
 "nbformat_minor": 2
}
