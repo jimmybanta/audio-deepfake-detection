{
 "cells": [
  {
   "cell_type": "markdown",
   "metadata": {},
   "source": [
    "# Model Training\n",
    "Where I train the model"
   ]
  },
  {
   "cell_type": "code",
   "execution_count": 47,
   "metadata": {},
   "outputs": [],
   "source": [
    "import torch\n",
    "from torch import optim\n",
    "from torch import nn\n",
    "import numpy as np\n",
    "import sklearn.metrics as metrics\n",
    "import matplotlib.pyplot as plt\n",
    "\n",
    "\n",
    "from cnn.models import Model\n",
    "from data.import_data import load_dataset, get_dataloader"
   ]
  },
  {
   "cell_type": "markdown",
   "metadata": {},
   "source": [
    "## Device, Loss Function"
   ]
  },
  {
   "cell_type": "code",
   "execution_count": 4,
   "metadata": {},
   "outputs": [],
   "source": [
    "device = torch.device('cuda' if torch.cuda.is_available() else 'cpu')\n",
    "loss_func = nn.BCELoss()"
   ]
  },
  {
   "cell_type": "markdown",
   "metadata": {},
   "source": [
    "## Loading Data"
   ]
  },
  {
   "cell_type": "code",
   "execution_count": 5,
   "metadata": {},
   "outputs": [],
   "source": [
    "# load in TensorDatasets -- these will then be used to populate the dataloaders\n",
    "\n",
    "train_dataset = load_dataset('data/meta/train.csv', files_to_load=100)\n",
    "test_dataset = load_dataset('data/meta/test.csv', files_to_load=100)"
   ]
  },
  {
   "cell_type": "markdown",
   "metadata": {},
   "source": [
    "## Hyperparameters"
   ]
  },
  {
   "cell_type": "code",
   "execution_count": 6,
   "metadata": {},
   "outputs": [],
   "source": [
    "# define our hyperparameter options\n",
    "## these will be used for some basic hyperparameter tuning\n",
    "\n",
    "num_channels_list = [4, 8, 16, 32, 64, 128]\n",
    "lrs_list = [.001, .0005, .0001]\n",
    "bses_list = [8, 16, 32, 64, 128]\n",
    "\n",
    "epochs = 100"
   ]
  },
  {
   "cell_type": "markdown",
   "metadata": {},
   "source": [
    "## Training"
   ]
  },
  {
   "cell_type": "code",
   "execution_count": 59,
   "metadata": {},
   "outputs": [],
   "source": [
    "def train(num_channels, learning_rate, batch_size, epochs,\n",
    "          display=False):\n",
    "    '''\n",
    "    Trains a model with the given hyperparameters.\n",
    "\n",
    "    Parameters\n",
    "    ----------\n",
    "    num_channels : int\n",
    "        The number of channels to use in the model.\n",
    "    learning_rate : float\n",
    "        The learning rate to use in the optimizer.\n",
    "    batch_size : int\n",
    "        The batch size to use in the dataloaders.\n",
    "    epochs : int\n",
    "        The number of epochs to train for.\n",
    "    display : bool | False\n",
    "        Whether or not to plot the loss over time and display it.\n",
    "\n",
    "    Returns\n",
    "    -------\n",
    "    model : Model\n",
    "        The trained model.\n",
    "    '''\n",
    "\n",
    "    # get the dataloaders\n",
    "    train_loader = get_dataloader(train_dataset, batch_size=batch_size)\n",
    "    test_loader = get_dataloader(test_dataset, batch_size=batch_size)\n",
    "\n",
    "    # define the model\n",
    "    model = Model(num_channels=num_channels).to(device)\n",
    "\n",
    "    # define the optimizer\n",
    "    opt = optim.Adam(model.parameters(), lr=learning_rate)\n",
    "\n",
    "    # keep track of the losses - to plot loss over time, as well as to use for early stopping\n",
    "    train_losses = []\n",
    "    test_losses = []\n",
    "\n",
    "    # train the model\n",
    "    for epoch in range(epochs):\n",
    "\n",
    "        # set the model to train mode\n",
    "        model.train()\n",
    "        train_loss = 0\n",
    "\n",
    "        # iterate over the training data\n",
    "        for inputs, targets in train_loader:\n",
    "            preds = model(inputs)\n",
    "            \n",
    "            loss = loss_func(preds, targets)\n",
    "            train_loss += loss.item()\n",
    "                    \n",
    "            opt.zero_grad()\n",
    "                \n",
    "            loss.backward()\n",
    "            opt.step()\n",
    "        \n",
    "        train_losses.append(train_loss)\n",
    "\n",
    "        # set the model to evaluation mode\n",
    "        model.eval()\n",
    "\n",
    "        # calculate the test loss\n",
    "        with torch.no_grad():\n",
    "            test_loss = 0\n",
    "            for inputs, targets in test_loader:\n",
    "                preds = model(inputs)\n",
    "                test_loss += loss_func(preds, targets).item()\n",
    "            \n",
    "            test_losses.append(test_loss)\n",
    "\n",
    "            print(f'Epoch: {epoch} | Test Loss: {test_loss}')\n",
    "        \n",
    "        # early stopping\n",
    "        # let it train for at least 3 epochs before stopping\n",
    "        if epoch > 4:\n",
    "            # look at the last 3 test losses - if all of them are less than the max test loss, stop training\n",
    "            ## i.e. if the model has not had any improvement in the last 3 epochs, stop training\n",
    "            if all(val < max(test_losses) for val in list(test_losses[-3:])):\n",
    "                print('Stopping early...')\n",
    "                break\n",
    "        \n",
    "    # plot the loss over time\n",
    "    plt.plot(train_losses, label='Train Loss')\n",
    "    plt.plot(test_losses, label='Test Loss')\n",
    "    plt.legend()\n",
    "    plt.show()\n",
    "    \n",
    "    return model"
   ]
  },
  {
   "cell_type": "code",
   "execution_count": 62,
   "metadata": {},
   "outputs": [
    {
     "name": "stdout",
     "output_type": "stream",
     "text": [
      "Epoch: 0 | Test Loss: 6.3271284103393555\n",
      "Epoch: 1 | Test Loss: 6.018956959247589\n",
      "Epoch: 2 | Test Loss: 6.251150608062744\n",
      "Epoch: 3 | Test Loss: 6.54877233505249\n",
      "Epoch: 4 | Test Loss: 9.344192147254944\n",
      "Epoch: 5 | Test Loss: 6.152493596076965\n",
      "Epoch: 6 | Test Loss: 6.191611468791962\n",
      "Epoch: 7 | Test Loss: 8.56125521659851\n",
      "Stopping early...\n"
     ]
    },
    {
     "data": {
      "image/png": "[encoded data removed]",
      "text/plain": [
       "<Figure size 640x480 with 1 Axes>"
      ]
     },
     "metadata": {},
     "output_type": "display_data"
    }
   ],
   "source": [
    "trained_model = train(16, .00001, 128, 20)"
   ]
  },
  {
   "cell_type": "markdown",
   "metadata": {},
   "source": [
    "## Model Evaluation"
   ]
  },
  {
   "cell_type": "code",
   "execution_count": 44,
   "metadata": {},
   "outputs": [],
   "source": [
    "def get_optimalROC(probs, targets):\n",
    "    '''\n",
    "    Returns the optimal threshold for a model, given the predicted probabilities and the targets.\n",
    "\n",
    "    Parameters \n",
    "    ----------\n",
    "    probs : torch.tensor\n",
    "        The predicted probabilities of the model\n",
    "    targets : torch.tensor\n",
    "        The true labels of the data\n",
    "\n",
    "    Returns\n",
    "    -------\n",
    "    best_thresh : float\n",
    "        The optimal threshold for the model\n",
    "    '''\n",
    "\n",
    "    probs = probs.cpu().numpy()\n",
    "    targets = targets.cpu().numpy()\n",
    "\n",
    "    fpr, tpr, thresholds = metrics.roc_curve(targets, probs)\n",
    "\n",
    "    J = tpr - fpr\n",
    "\n",
    "    ix = np.argmax(J)\n",
    "    best_thresh = thresholds[ix]\n",
    "\n",
    "    return best_thresh"
   ]
  },
  {
   "cell_type": "code",
   "execution_count": 45,
   "metadata": {},
   "outputs": [],
   "source": [
    "def eval_model(model, dataset):\n",
    "    '''\n",
    "    Given a model and a dataset, evaluate the model on the dataset.add\n",
    "\n",
    "    Parameters\n",
    "    ----------\n",
    "    model : Model\n",
    "        The model to evaluate\n",
    "    dataset : TensorDataset\n",
    "        The dataset to evaluate the model on\n",
    "\n",
    "    '''\n",
    "\n",
    "    # get the dataloader, all in one batch\n",
    "    loader = get_dataloader(dataset, batch_size=100000)\n",
    "\n",
    "    # set the model to evaluation\n",
    "    model.eval()\n",
    "\n",
    "    with torch.no_grad():\n",
    "\n",
    "        for inputs, targets in loader:\n",
    "            probs = trained_model(inputs)\n",
    "\n",
    "            probs = probs[:, 0]\n",
    "            targets = targets[:, 0]\n",
    "\n",
    "            thresh = get_optimalROC(probs, targets)\n",
    "            print(f'Optimal Threshold: {thresh}')\n",
    "            preds = (probs >= thresh).long()\n",
    "\n",
    "            probs = probs.cpu().numpy()\n",
    "            preds = preds.cpu().numpy()\n",
    "            targets = targets.cpu().numpy()\n",
    "\n",
    "            roc = metrics.roc_auc_score(targets, probs)\n",
    "\n",
    "            tn, fp, fn, tp = metrics.confusion_matrix(targets, preds).ravel()\n",
    "\n",
    "    \n",
    "    accuracy = (tp + tn) / (tp + tn + fp + fn)\n",
    "    sens = tp / (tp + fn)\n",
    "    spec = tn / (tn + fp)\n",
    "    ppv = tp / (tp + fp)\n",
    "    npv = tn / (tn + fn)\n",
    "\n",
    "    print(f'ROC: {roc}')\n",
    "    print(f'Accuracy: {accuracy}')\n",
    "    print(f'Sensitivity: {sens}')\n",
    "    print(f'Specificity: {spec}')\n",
    "    print(f'PPV: {ppv}')\n",
    "    print(f'NPV: {npv}')\n",
    "\n",
    "    metrics.ConfusionMatrixDisplay(metrics.confusion_matrix(targets, preds)).plot()\n",
    "    "
   ]
  },
  {
   "cell_type": "code",
   "execution_count": 63,
   "metadata": {},
   "outputs": [
    {
     "name": "stdout",
     "output_type": "stream",
     "text": [
      "Optimal Threshold: 0.00018862327851820737\n",
      "ROC: 0.3831200128527821\n",
      "Accuracy: 0.3802469135802469\n",
      "Sensitivity: 0.9929577464788732\n",
      "Specificity: 0.049429657794676805\n",
      "PPV: 0.36061381074168797\n",
      "NPV: 0.9285714285714286\n"
     ]
    },
    {
     "data": {
      "image/png": "[encoded data removed]",
      "text/plain": [
       "<Figure size 640x480 with 2 Axes>"
      ]
     },
     "metadata": {},
     "output_type": "display_data"
    }
   ],
   "source": [
    "eval_model(trained_model, test_dataset)"
   ]
  },
  {
   "cell_type": "code",
   "execution_count": null,
   "metadata": {},
   "outputs": [],
   "source": []
  }
 ],
 "metadata": {
  "kernelspec": {
   "display_name": "venv",
   "language": "python",
   "name": "python3"
  },
  "language_info": {
   "codemirror_mode": {
    "name": "ipython",
    "version": 3
   },
   "file_extension": ".py",
   "mimetype": "text/x-python",
   "name": "python",
   "nbconvert_exporter": "python",
   "pygments_lexer": "ipython3",
   "version": "3.11.3"
  }
 },
 "nbformat": 4,
 "nbformat_minor": 2
}
