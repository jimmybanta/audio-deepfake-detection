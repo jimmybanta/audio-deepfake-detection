{
 "cells": [
  {
   "cell_type": "markdown",
   "metadata": {},
   "source": [
    "# Model Training\n",
    "Where I train the model"
   ]
  },
  {
   "cell_type": "code",
   "execution_count": 1,
   "metadata": {},
   "outputs": [
    {
     "name": "stderr",
     "output_type": "stream",
     "text": [
      "/Users/jimbo/Documents/coding/misc/audio-deepfake-detection/venv/lib/python3.11/site-packages/torchaudio/functional/functional.py:584: UserWarning: At least one mel filterbank has all zero values. The value for `n_mels` (128) may be set too high. Or, the value for `n_freqs` (201) may be set too low.\n",
      "  warnings.warn(\n"
     ]
    }
   ],
   "source": [
    "import torch\n",
    "from torch import optim\n",
    "from torch import nn\n",
    "import numpy as np\n",
    "import sklearn.metrics as metrics\n",
    "import matplotlib.pyplot as plt\n",
    "\n",
    "\n",
    "from cnn.models import Model\n",
    "from data.import_data import load_dataset, get_dataloader\n",
    "from eval import eval_model"
   ]
  },
  {
   "cell_type": "markdown",
   "metadata": {},
   "source": [
    "## Device, Loss Function"
   ]
  },
  {
   "cell_type": "code",
   "execution_count": 2,
   "metadata": {},
   "outputs": [],
   "source": [
    "device = torch.device('cuda' if torch.cuda.is_available() else 'cpu')\n",
    "loss_func = nn.BCELoss()"
   ]
  },
  {
   "cell_type": "markdown",
   "metadata": {},
   "source": [
    "## Loading Data"
   ]
  },
  {
   "cell_type": "code",
   "execution_count": 9,
   "metadata": {},
   "outputs": [],
   "source": [
    "# load in TensorDatasets -- these will then be used to populate the dataloaders\n",
    "\n",
    "train_dataset = load_dataset('data/meta/train.csv', files_to_load=1000)\n",
    "test_dataset = load_dataset('data/meta/test.csv', files_to_load=1000)"
   ]
  },
  {
   "cell_type": "markdown",
   "metadata": {},
   "source": [
    "## Hyperparameters"
   ]
  },
  {
   "cell_type": "code",
   "execution_count": 31,
   "metadata": {},
   "outputs": [],
   "source": [
    "# define our hyperparameter options\n",
    "## these will be used for some basic hyperparameter tuning\n",
    "\n",
    "num_channels_list = [1, 2, 4, 8, 16, 32, 64]\n",
    "lrs_list = [.001, .0005, .0001]\n",
    "bses_list = [8, 16, 32, 64, 128]\n",
    "\n",
    "epochs = 20"
   ]
  },
  {
   "cell_type": "markdown",
   "metadata": {},
   "source": [
    "## Training"
   ]
  },
  {
   "cell_type": "code",
   "execution_count": 33,
   "metadata": {},
   "outputs": [],
   "source": [
    "def train(num_channels, learning_rate, batch_size, epochs,\n",
    "          display=False,\n",
    "          early_stopping=True):\n",
    "    '''\n",
    "    Trains a model with the given hyperparameters.\n",
    "\n",
    "    Parameters\n",
    "    ----------\n",
    "    num_channels : int\n",
    "        The number of channels to use in the model.\n",
    "    learning_rate : float\n",
    "        The learning rate to use in the optimizer.\n",
    "    batch_size : int\n",
    "        The batch size to use in the dataloaders.\n",
    "    epochs : int\n",
    "        The number of epochs to train for.\n",
    "    display : bool | False\n",
    "        Whether or not to plot the loss over time and display it.\n",
    "    early_stopping : bool | True\n",
    "        Whether or not to use early stopping.\n",
    "\n",
    "    Returns\n",
    "    -------\n",
    "    model : Model\n",
    "        The trained model.\n",
    "    '''\n",
    "\n",
    "    # get the dataloaders\n",
    "    train_loader = get_dataloader(train_dataset, batch_size=batch_size)\n",
    "    test_loader = get_dataloader(test_dataset, batch_size=batch_size)\n",
    "\n",
    "    # define the model\n",
    "    model = Model(num_channels=num_channels).to(device)\n",
    "\n",
    "    # define the optimizer\n",
    "    opt = optim.Adam(model.parameters(), lr=learning_rate)\n",
    "\n",
    "    # keep track of the losses - to plot loss over time, as well as to use for early stopping\n",
    "    train_losses = []\n",
    "    test_losses = []\n",
    "\n",
    "    # train the model\n",
    "    for epoch in range(epochs):\n",
    "\n",
    "        # set the model to train mode\n",
    "        model.train()\n",
    "        train_loss = 0\n",
    "\n",
    "        # iterate over the training data\n",
    "        for inputs, targets in train_loader:\n",
    "            preds = model(inputs)\n",
    "            \n",
    "            loss = loss_func(preds, targets)\n",
    "            train_loss += loss.item()\n",
    "                    \n",
    "            opt.zero_grad()\n",
    "                \n",
    "            loss.backward()\n",
    "            opt.step()\n",
    "        \n",
    "        # get the average train loss\n",
    "        train_loss = train_loss / len(train_loader)\n",
    "        \n",
    "        train_losses.append(train_loss)\n",
    "\n",
    "        # set the model to evaluation mode\n",
    "        model.eval()\n",
    "\n",
    "        # calculate the test loss\n",
    "        with torch.no_grad():\n",
    "            test_loss = 0\n",
    "            for inputs, targets in test_loader:\n",
    "                preds = model(inputs)\n",
    "                test_loss += loss_func(preds, targets).item()\n",
    "            \n",
    "            # get the average test loss\n",
    "            test_loss = test_loss / len(test_loader)\n",
    "            \n",
    "            test_losses.append(test_loss)\n",
    "\n",
    "            print(f'Epoch: {epoch} | Test Loss: {test_loss}')\n",
    "        \n",
    "        # early stopping\n",
    "        # let it train for at least 3 epochs before stopping\n",
    "        if epoch > 3 and early_stopping:\n",
    "            # look at the last 3 test losses - if all of them are greater than the min test loss, stop training\n",
    "            ## i.e. if the model has not had any improvement in the last 3 epochs, stop training\n",
    "            if all(val > min(test_losses) for val in list(test_losses[-3:])):\n",
    "                print('Stopping early...')\n",
    "                break\n",
    "        \n",
    "    # plot the loss over time\n",
    "    if display:\n",
    "        plt.plot(train_losses, label='Train Loss')\n",
    "        plt.plot(test_losses, label='Test Loss')\n",
    "        plt.legend()\n",
    "        plt.show()\n",
    "    \n",
    "    return model"
   ]
  },
  {
   "cell_type": "code",
   "execution_count": 30,
   "metadata": {},
   "outputs": [
    {
     "name": "stdout",
     "output_type": "stream",
     "text": [
      "Num Channels: 1 | Learning Rate: 0.001 | Batch Size: 8\n",
      "Epoch: 0 | Test Loss: 0.6705182413939091\n",
      "Epoch: 1 | Test Loss: 0.6893995303473026\n",
      "Epoch: 2 | Test Loss: 0.6970276828292462\n",
      "Epoch: 3 | Test Loss: 0.7097209595519004\n",
      "Epoch: 4 | Test Loss: 0.7186005407636115\n",
      "Stopping early...\n",
      "\n",
      "Num Channels: 1 | Learning Rate: 0.001 | Batch Size: 16\n",
      "Epoch: 0 | Test Loss: 0.6855634202202447\n",
      "Epoch: 1 | Test Loss: 0.6882001311658955\n",
      "Epoch: 2 | Test Loss: 0.7052467107344017\n",
      "Epoch: 3 | Test Loss: 0.7134786464756341\n",
      "Epoch: 4 | Test Loss: 0.7412837317092813\n",
      "Stopping early...\n",
      "\n",
      "Num Channels: 1 | Learning Rate: 0.001 | Batch Size: 32\n",
      "Epoch: 0 | Test Loss: 0.6865876385633894\n",
      "Epoch: 1 | Test Loss: 0.699504309420963\n",
      "Epoch: 2 | Test Loss: 0.6947615017993845\n",
      "Epoch: 3 | Test Loss: 0.7250620225350634\n",
      "Epoch: 4 | Test Loss: 0.7397331471065823\n",
      "Stopping early...\n",
      "\n",
      "Num Channels: 1 | Learning Rate: 0.001 | Batch Size: 64\n",
      "Epoch: 0 | Test Loss: 0.6775214816842761\n",
      "Epoch: 1 | Test Loss: 0.705919680425099\n",
      "Epoch: 2 | Test Loss: 0.7034634164401463\n",
      "Epoch: 3 | Test Loss: 0.700294497183391\n",
      "Epoch: 4 | Test Loss: 0.7427530186516899\n",
      "Stopping early...\n",
      "\n",
      "Num Channels: 1 | Learning Rate: 0.001 | Batch Size: 128\n",
      "Epoch: 0 | Test Loss: 0.6697456206594194\n",
      "Epoch: 1 | Test Loss: 0.686381573336465\n",
      "Epoch: 2 | Test Loss: 0.6889930043901716\n",
      "Epoch: 3 | Test Loss: 0.6973884582519532\n",
      "Epoch: 4 | Test Loss: 0.6916272367749895\n",
      "Stopping early...\n",
      "\n",
      "Num Channels: 1 | Learning Rate: 0.0005 | Batch Size: 8\n",
      "Epoch: 0 | Test Loss: 0.6833754627288674\n",
      "Epoch: 1 | Test Loss: 0.6799382909918003\n",
      "Epoch: 2 | Test Loss: 0.6894661931039618\n",
      "Epoch: 3 | Test Loss: 0.7022885756312515\n",
      "Epoch: 4 | Test Loss: 0.7185242143895129\n",
      "Stopping early...\n",
      "\n",
      "Num Channels: 1 | Learning Rate: 0.0005 | Batch Size: 16\n",
      "Epoch: 0 | Test Loss: 0.6892660198022993\n",
      "Epoch: 1 | Test Loss: 0.6733536746004503\n",
      "Epoch: 2 | Test Loss: 0.6883376322204261\n",
      "Epoch: 3 | Test Loss: 0.6999817679254271\n",
      "Epoch: 4 | Test Loss: 0.7146864267561933\n",
      "Stopping early...\n",
      "\n",
      "Num Channels: 1 | Learning Rate: 0.0005 | Batch Size: 32\n",
      "Epoch: 0 | Test Loss: 0.6790067313386382\n",
      "Epoch: 1 | Test Loss: 0.7256453105871626\n",
      "Epoch: 2 | Test Loss: 0.6909395726464636\n",
      "Epoch: 3 | Test Loss: 0.7047028490107694\n",
      "Epoch: 4 | Test Loss: 0.721485739560436\n",
      "Stopping early...\n",
      "\n",
      "Num Channels: 1 | Learning Rate: 0.0005 | Batch Size: 64\n",
      "Epoch: 0 | Test Loss: 0.6698184055941445\n",
      "Epoch: 1 | Test Loss: 0.6936799143041883\n",
      "Epoch: 2 | Test Loss: 0.6889858058520726\n",
      "Epoch: 3 | Test Loss: 0.7021157205104828\n",
      "Epoch: 4 | Test Loss: 0.7341399533408028\n",
      "Stopping early...\n",
      "\n",
      "Num Channels: 1 | Learning Rate: 0.0005 | Batch Size: 128\n",
      "Epoch: 0 | Test Loss: 0.6607658215931483\n",
      "Epoch: 1 | Test Loss: 0.6815284848213196\n",
      "Epoch: 2 | Test Loss: 0.6749920419284275\n",
      "Epoch: 3 | Test Loss: 0.6901399425097874\n",
      "Epoch: 4 | Test Loss: 0.6866564069475446\n",
      "Stopping early...\n",
      "\n",
      "Num Channels: 1 | Learning Rate: 0.0001 | Batch Size: 8\n",
      "Epoch: 0 | Test Loss: 0.6704497902299003\n",
      "Epoch: 1 | Test Loss: 0.6711302756619968\n",
      "Epoch: 2 | Test Loss: 0.6721541011612192\n",
      "Epoch: 3 | Test Loss: 0.6748246151230318\n",
      "Epoch: 4 | Test Loss: 0.6909315675068245\n",
      "Stopping early...\n",
      "\n",
      "Num Channels: 1 | Learning Rate: 0.0001 | Batch Size: 16\n",
      "Epoch: 0 | Test Loss: 0.6644313230360155\n",
      "Epoch: 1 | Test Loss: 0.6686459659672469\n",
      "Epoch: 2 | Test Loss: 0.6667514487350588\n",
      "Epoch: 3 | Test Loss: 0.6709002207080237\n",
      "Epoch: 4 | Test Loss: 0.6876725563042455\n",
      "Stopping early...\n",
      "\n",
      "Num Channels: 1 | Learning Rate: 0.0001 | Batch Size: 32\n",
      "Epoch: 0 | Test Loss: 0.6596144665059426\n",
      "Epoch: 1 | Test Loss: 0.682639910591592\n",
      "Epoch: 2 | Test Loss: 0.6740201793128638\n",
      "Epoch: 3 | Test Loss: 0.6741126012459076\n",
      "Epoch: 4 | Test Loss: 0.6748733816386985\n",
      "Stopping early...\n",
      "\n",
      "Num Channels: 1 | Learning Rate: 0.0001 | Batch Size: 64\n",
      "Epoch: 0 | Test Loss: 0.6567807734012604\n",
      "Epoch: 1 | Test Loss: 0.6622860644544873\n",
      "Epoch: 2 | Test Loss: 0.6651836676256997\n",
      "Epoch: 3 | Test Loss: 0.6742244618279594\n",
      "Epoch: 4 | Test Loss: 0.6814032205513545\n",
      "Stopping early...\n",
      "\n",
      "Num Channels: 1 | Learning Rate: 0.0001 | Batch Size: 128\n",
      "Epoch: 0 | Test Loss: 0.6488223348345076\n",
      "Epoch: 1 | Test Loss: 0.6576711399214609\n",
      "Epoch: 2 | Test Loss: 0.6627508078302656\n",
      "Epoch: 3 | Test Loss: 0.6635113409587315\n",
      "Epoch: 4 | Test Loss: 0.6676456723894392\n",
      "Stopping early...\n",
      "\n",
      "Num Channels: 2 | Learning Rate: 0.001 | Batch Size: 8\n",
      "Epoch: 0 | Test Loss: 0.6780412823176213\n",
      "Epoch: 1 | Test Loss: 0.6980489400222147\n",
      "Epoch: 2 | Test Loss: 0.6968526263459981\n",
      "Epoch: 3 | Test Loss: 0.7078516031983945\n",
      "Epoch: 4 | Test Loss: 0.7118406462476408\n",
      "Stopping early...\n",
      "\n",
      "Num Channels: 2 | Learning Rate: 0.001 | Batch Size: 16\n",
      "Epoch: 0 | Test Loss: 0.6794971489220214\n",
      "Epoch: 1 | Test Loss: 0.7215695419757486\n",
      "Epoch: 2 | Test Loss: 0.7083714652618915\n",
      "Epoch: 3 | Test Loss: 0.7319476651630813\n",
      "Epoch: 4 | Test Loss: 0.7285545386856408\n",
      "Stopping early...\n",
      "\n",
      "Num Channels: 2 | Learning Rate: 0.001 | Batch Size: 32\n",
      "Epoch: 0 | Test Loss: 0.6670029918066889\n",
      "Epoch: 1 | Test Loss: 0.7099299833928938\n",
      "Epoch: 2 | Test Loss: 0.7243380190657197\n",
      "Epoch: 3 | Test Loss: 0.7087435091999795\n",
      "Epoch: 4 | Test Loss: 0.7399402020646514\n",
      "Stopping early...\n",
      "\n",
      "Num Channels: 2 | Learning Rate: 0.001 | Batch Size: 64\n",
      "Epoch: 0 | Test Loss: 0.6604071523462023\n",
      "Epoch: 1 | Test Loss: 0.714973543371473\n",
      "Epoch: 2 | Test Loss: 0.7863658734730312\n",
      "Epoch: 3 | Test Loss: 0.737239773784365\n",
      "Epoch: 4 | Test Loss: 0.7591841833932059\n",
      "Stopping early...\n",
      "\n",
      "Num Channels: 2 | Learning Rate: 0.001 | Batch Size: 128\n",
      "Epoch: 0 | Test Loss: 0.7176472323281424\n",
      "Epoch: 1 | Test Loss: 0.7133726664951869\n",
      "Epoch: 2 | Test Loss: 0.7075591734477452\n",
      "Epoch: 3 | Test Loss: 0.7356639981269837\n",
      "Epoch: 4 | Test Loss: 0.7113195708819798\n",
      "Epoch: 5 | Test Loss: 0.7969374554497856\n",
      "Stopping early...\n",
      "\n",
      "Num Channels: 2 | Learning Rate: 0.0005 | Batch Size: 8\n",
      "Epoch: 0 | Test Loss: 0.6836500934345259\n",
      "Epoch: 1 | Test Loss: 0.7389770888810535\n",
      "Epoch: 2 | Test Loss: 0.7079373116223074\n",
      "Epoch: 3 | Test Loss: 0.7008454458747836\n",
      "Epoch: 4 | Test Loss: 0.7144984108724183\n",
      "Stopping early...\n",
      "\n",
      "Num Channels: 2 | Learning Rate: 0.0005 | Batch Size: 16\n",
      "Epoch: 0 | Test Loss: 0.6844471808817747\n",
      "Epoch: 1 | Test Loss: 0.7191682775243581\n",
      "Epoch: 2 | Test Loss: 0.7286723547702213\n",
      "Epoch: 3 | Test Loss: 0.7364391118502446\n",
      "Epoch: 4 | Test Loss: 0.7146533099438647\n",
      "Stopping early...\n",
      "\n",
      "Num Channels: 2 | Learning Rate: 0.0005 | Batch Size: 32\n",
      "Epoch: 0 | Test Loss: 0.6712613530296216\n",
      "Epoch: 1 | Test Loss: 0.7156416465052597\n",
      "Epoch: 2 | Test Loss: 0.720698429526185\n",
      "Epoch: 3 | Test Loss: 0.7199985033316578\n",
      "Epoch: 4 | Test Loss: 0.7114234579552849\n",
      "Stopping early...\n",
      "\n",
      "Num Channels: 2 | Learning Rate: 0.0005 | Batch Size: 64\n",
      "Epoch: 0 | Test Loss: 0.6858530044555664\n",
      "Epoch: 1 | Test Loss: 0.7282507623944964\n",
      "Epoch: 2 | Test Loss: 0.738490481887545\n",
      "Epoch: 3 | Test Loss: 0.7472623084272657\n",
      "Epoch: 4 | Test Loss: 0.7390195156846727\n",
      "Stopping early...\n",
      "\n",
      "Num Channels: 2 | Learning Rate: 0.0005 | Batch Size: 128\n",
      "Epoch: 0 | Test Loss: 0.7135412539754595\n",
      "Epoch: 1 | Test Loss: 0.6966718213898795\n",
      "Epoch: 2 | Test Loss: 0.7088583299091884\n",
      "Epoch: 3 | Test Loss: 0.7269075563975743\n",
      "Epoch: 4 | Test Loss: 0.7298906547682625\n",
      "Stopping early...\n",
      "\n",
      "Num Channels: 2 | Learning Rate: 0.0001 | Batch Size: 8\n",
      "Epoch: 0 | Test Loss: 0.6829871431850701\n",
      "Epoch: 1 | Test Loss: 0.7021250876484157\n",
      "Epoch: 2 | Test Loss: 0.7095788373685569\n",
      "Epoch: 3 | Test Loss: 0.6971007453130303\n",
      "Epoch: 4 | Test Loss: 0.7168018168253865\n",
      "Stopping early...\n",
      "\n",
      "Num Channels: 2 | Learning Rate: 0.0001 | Batch Size: 16\n",
      "Epoch: 0 | Test Loss: 0.6788440012245727\n",
      "Epoch: 1 | Test Loss: 0.7028659425622268\n",
      "Epoch: 2 | Test Loss: 0.7027865875539162\n",
      "Epoch: 3 | Test Loss: 0.6918333104188493\n",
      "Epoch: 4 | Test Loss: 0.6888004142603428\n",
      "Stopping early...\n",
      "\n",
      "Num Channels: 2 | Learning Rate: 0.0001 | Batch Size: 32\n",
      "Epoch: 0 | Test Loss: 0.6871742957787548\n",
      "Epoch: 1 | Test Loss: 0.6843466955980808\n",
      "Epoch: 2 | Test Loss: 0.6907897943215404\n",
      "Epoch: 3 | Test Loss: 0.7040685295201033\n",
      "Epoch: 4 | Test Loss: 0.7041035894867328\n",
      "Stopping early...\n",
      "\n",
      "Num Channels: 2 | Learning Rate: 0.0001 | Batch Size: 64\n",
      "Epoch: 0 | Test Loss: 0.6742698056357247\n",
      "Epoch: 1 | Test Loss: 0.674755380834852\n",
      "Epoch: 2 | Test Loss: 0.6902164127145495\n",
      "Epoch: 3 | Test Loss: 0.6859834713595254\n",
      "Epoch: 4 | Test Loss: 0.6827008741242545\n",
      "Stopping early...\n",
      "\n",
      "Num Channels: 2 | Learning Rate: 0.0001 | Batch Size: 128\n",
      "Epoch: 0 | Test Loss: 0.6651897805077689\n",
      "Epoch: 1 | Test Loss: 0.6805057525634766\n",
      "Epoch: 2 | Test Loss: 0.685295125416347\n",
      "Epoch: 3 | Test Loss: 0.6824637498174395\n",
      "Epoch: 4 | Test Loss: 0.6967395748410906\n",
      "Stopping early...\n",
      "\n"
     ]
    }
   ],
   "source": [
    "# hyperparameter tuning\n",
    "\n",
    "# iterate over all the hyperparameters\n",
    "for num_channels in num_channels_list:\n",
    "    for lr in lrs_list:\n",
    "        for bs in bses_list:\n",
    "            print(f'Num Channels: {num_channels} | Learning Rate: {lr} | Batch Size: {bs}')\n",
    "\n",
    "            # set the seed for reproducibility\n",
    "            torch.random.manual_seed(0)\n",
    "            train(num_channels, lr, bs, epochs, display=False)\n",
    "            print('')"
   ]
  },
  {
   "cell_type": "code",
   "execution_count": 39,
   "metadata": {},
   "outputs": [
    {
     "name": "stdout",
     "output_type": "stream",
     "text": [
      "Epoch: 0 | Test Loss: 0.6761487700956331\n",
      "Epoch: 1 | Test Loss: 0.6795785988835122\n",
      "Epoch: 2 | Test Loss: 0.6849683831921585\n",
      "Epoch: 3 | Test Loss: 0.6890962248225864\n",
      "Epoch: 4 | Test Loss: 0.6971228311387755\n",
      "Epoch: 5 | Test Loss: 0.6854996016557268\n",
      "Epoch: 6 | Test Loss: 0.6896205801757977\n",
      "Epoch: 7 | Test Loss: 0.700583801423903\n",
      "Epoch: 8 | Test Loss: 0.7013152661941034\n",
      "Epoch: 9 | Test Loss: 0.701380498975301\n"
     ]
    },
    {
     "data": {
      "image/png": "[encoded data removed]",
      "text/plain": [
       "<Figure size 640x480 with 1 Axes>"
      ]
     },
     "metadata": {},
     "output_type": "display_data"
    }
   ],
   "source": [
    "trained_model = train(1, .0001, 32, 10, display=True, early_stopping=False)"
   ]
  },
  {
   "cell_type": "markdown",
   "metadata": {},
   "source": [
    "## Model Evaluation"
   ]
  },
  {
   "cell_type": "code",
   "execution_count": 40,
   "metadata": {},
   "outputs": [
    {
     "name": "stdout",
     "output_type": "stream",
     "text": [
      "Optimal Threshold: 0.4692900776863098\n",
      "ROC: 0.4922019660262229\n",
      "Accuracy: 0.44936993699369937\n",
      "Sensitivity: 0.7684283727399166\n",
      "Specificity: 0.2967398536260812\n",
      "PPV: 0.3432743087915502\n",
      "NPV: 0.7281632653061224\n"
     ]
    },
    {
     "data": {
      "image/png": "[encoded data removed]",
      "text/plain": [
       "<Figure size 640x480 with 2 Axes>"
      ]
     },
     "metadata": {},
     "output_type": "display_data"
    }
   ],
   "source": [
    "eval_model(trained_model, test_dataset)"
   ]
  },
  {
   "cell_type": "markdown",
   "metadata": {},
   "source": [
    "## Evaluation Set"
   ]
  },
  {
   "cell_type": "code",
   "execution_count": 41,
   "metadata": {},
   "outputs": [],
   "source": [
    "eval_dataset = load_dataset('data/meta/eval.csv', files_to_load='all')"
   ]
  },
  {
   "cell_type": "code",
   "execution_count": 42,
   "metadata": {},
   "outputs": [
    {
     "name": "stdout",
     "output_type": "stream",
     "text": [
      "Optimal Threshold: 0.4697871208190918\n",
      "ROC: 0.7534049385549433\n",
      "Accuracy: 0.7252521798598051\n",
      "Sensitivity: 0.8213105726872246\n",
      "Specificity: 0.5678845286423094\n",
      "PPV: 0.7569144887084497\n",
      "NPV: 0.659853249475891\n"
     ]
    },
    {
     "data": {
      "image/png": "[encoded data removed]",
      "text/plain": [
       "<Figure size 640x480 with 2 Axes>"
      ]
     },
     "metadata": {},
     "output_type": "display_data"
    }
   ],
   "source": [
    "eval_model(trained_model, eval_dataset)"
   ]
  },
  {
   "cell_type": "code",
   "execution_count": 43,
   "metadata": {},
   "outputs": [],
   "source": [
    "# save model\n",
    "torch.save(trained_model.state_dict(), '1.pth')"
   ]
  },
  {
   "cell_type": "code",
   "execution_count": null,
   "metadata": {},
   "outputs": [],
   "source": []
  }
 ],
 "metadata": {
  "kernelspec": {
   "display_name": "venv",
   "language": "python",
   "name": "python3"
  },
  "language_info": {
   "codemirror_mode": {
    "name": "ipython",
    "version": 3
   },
   "file_extension": ".py",
   "mimetype": "text/x-python",
   "name": "python",
   "nbconvert_exporter": "python",
   "pygments_lexer": "ipython3",
   "version": "3.11.3"
  }
 },
 "nbformat": 4,
 "nbformat_minor": 2
}
